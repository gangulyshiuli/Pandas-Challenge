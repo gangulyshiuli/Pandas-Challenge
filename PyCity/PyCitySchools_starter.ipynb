{
 "cells": [
  {
   "cell_type": "markdown",
   "metadata": {},
   "source": [
    "# Panda PyCity"
   ]
  },
  {
   "cell_type": "markdown",
   "metadata": {},
   "source": [
    "## Shiuli Ganguly"
   ]
  },
  {
   "cell_type": "code",
   "execution_count": 1,
   "metadata": {},
   "outputs": [],
   "source": [
    "# Dependencies and Setup\n",
    "import pandas as pd\n",
    "\n",
    "# File to Load\n",
    "school_data_to_load = \"schools_complete.csv\"\n",
    "student_data_to_load = \"students_complete.csv\"\n",
    "\n",
    "# Read School and Student Data File and store into Pandas Data Frames\n",
    "school_data_df = pd.read_csv(school_data_to_load)\n",
    "student_data_df = pd.read_csv(student_data_to_load)\n"
   ]
  },
  {
   "cell_type": "markdown",
   "metadata": {},
   "source": [
    "## District Summary\n",
    "\n",
    "* Calculate the total number of schools\n",
    "\n",
    "* Calculate the total number of students\n",
    "\n",
    "* Calculate the total budget\n",
    "\n",
    "* Calculate the average math score \n",
    "\n",
    "* Calculate the average reading score\n",
    "\n",
    "* Calculate the overall passing rate (overall average score), i.e. (avg. math score + avg. reading score)/2\n",
    "\n",
    "* Calculate the percentage of students with a passing math score (70 or greater)\n",
    "\n",
    "* Calculate the percentage of students with a passing reading score (70 or greater)\n",
    "\n",
    "* Create a dataframe to hold the above results\n",
    "\n",
    "* Optional: give the displayed data cleaner formatting"
   ]
  },
  {
   "cell_type": "markdown",
   "metadata": {},
   "source": [
    "## Calculate the total number of schools"
   ]
  },
  {
   "cell_type": "code",
   "execution_count": 2,
   "metadata": {},
   "outputs": [
    {
     "data": {
      "text/plain": [
       "array(['Huang High School', 'Figueroa High School', 'Shelton High School',\n",
       "       'Hernandez High School', 'Griffin High School',\n",
       "       'Wilson High School', 'Cabrera High School', 'Bailey High School',\n",
       "       'Holden High School', 'Pena High School', 'Wright High School',\n",
       "       'Rodriguez High School', 'Johnson High School', 'Ford High School',\n",
       "       'Thomas High School'], dtype=object)"
      ]
     },
     "execution_count": 2,
     "metadata": {},
     "output_type": "execute_result"
    }
   ],
   "source": [
    "school_data_df.shape\n",
    "# Calculate the total number of Schools 15\n",
    "\n",
    "len(student_data_df[\"school_name\"].unique())\n",
    "total_schools=len(school_data_df[\"school_name\"].unique())\n",
    "total_schools\n",
    "school_name=student_data_df[\"school_name\"].unique()\n",
    "school_name"
   ]
  },
  {
   "cell_type": "markdown",
   "metadata": {},
   "source": [
    "## Calculate the total number of students"
   ]
  },
  {
   "cell_type": "code",
   "execution_count": 3,
   "metadata": {},
   "outputs": [
    {
     "data": {
      "text/plain": [
       "39170"
      ]
     },
     "execution_count": 3,
     "metadata": {},
     "output_type": "execute_result"
    }
   ],
   "source": [
    "# Calculate the total number of students 39170\n",
    "student_count = len(student_data_df)\n",
    "student_count"
   ]
  },
  {
   "cell_type": "markdown",
   "metadata": {},
   "source": [
    "## Calculate the total budget"
   ]
  },
  {
   "cell_type": "code",
   "execution_count": 4,
   "metadata": {},
   "outputs": [
    {
     "data": {
      "text/plain": [
       "24649428"
      ]
     },
     "execution_count": 4,
     "metadata": {},
     "output_type": "execute_result"
    }
   ],
   "source": [
    "# Calculate the total budget 24649428\n",
    "school_data_df[\"budget\"].sum()\n",
    "total_budget = school_data_df[\"budget\"].sum()\n",
    "total_budget"
   ]
  },
  {
   "cell_type": "markdown",
   "metadata": {},
   "source": [
    "## Calculate the average math score"
   ]
  },
  {
   "cell_type": "code",
   "execution_count": 5,
   "metadata": {},
   "outputs": [],
   "source": [
    "# Calculate the average math score by school\n",
    "school_math_average = student_data_df.groupby(\"school_name\")['math_score'].mean()"
   ]
  },
  {
   "cell_type": "code",
   "execution_count": 6,
   "metadata": {},
   "outputs": [
    {
     "name": "stdout",
     "output_type": "stream",
     "text": [
      "Average Math Score\n"
     ]
    },
    {
     "data": {
      "text/plain": [
       "78.98537145774827"
      ]
     },
     "execution_count": 6,
     "metadata": {},
     "output_type": "execute_result"
    }
   ],
   "source": [
    "# Calculate the average math score by school\n",
    "student_data_df.groupby(\"school_name\")\n",
    "\n",
    "# Calculate the average math score\n",
    "student_data_df[\"math_score\"]\n",
    "\n",
    "# Calculate the average math score\n",
    "student_data_df[\"math_score\"].describe()\n",
    "\n",
    "# Double Check Average Math Score\n",
    "average_math_score = student_data_df['math_score'].sum()/(len(student_data_df))\n",
    "print(\"Average Math Score\")\n",
    "average_math_score"
   ]
  },
  {
   "cell_type": "markdown",
   "metadata": {},
   "source": [
    "## Calculate the average reading score"
   ]
  },
  {
   "cell_type": "code",
   "execution_count": 7,
   "metadata": {},
   "outputs": [],
   "source": [
    "# Calculate the average reading score by school\n",
    "school_reading_average = student_data_df.groupby(\"school_name\")['reading_score'].mean()"
   ]
  },
  {
   "cell_type": "code",
   "execution_count": 8,
   "metadata": {},
   "outputs": [
    {
     "name": "stdout",
     "output_type": "stream",
     "text": [
      "Average Reading Score\n"
     ]
    },
    {
     "data": {
      "text/plain": [
       "81.87784018381414"
      ]
     },
     "execution_count": 8,
     "metadata": {},
     "output_type": "execute_result"
    }
   ],
   "source": [
    "# Calculate the average reading score\n",
    "student_data_df[\"reading_score\"].describe()\n",
    "\n",
    "# Calculate the average reading score \n",
    "student_data_df[\"reading_score\"].mean()\n",
    "# Calculate the average reading score\n",
    "average_reading_score = student_data_df[\"reading_score\"].sum()/len(student_data_df)\n",
    "print(\"Average Reading Score\")\n",
    "average_reading_score"
   ]
  },
  {
   "cell_type": "markdown",
   "metadata": {},
   "source": [
    "## Calculate the overall passing rate (overall average score), i.e. (avg. math score + avg. reading score)/2"
   ]
  },
  {
   "cell_type": "code",
   "execution_count": 9,
   "metadata": {},
   "outputs": [
    {
     "data": {
      "text/plain": [
       "school_name\n",
       "Bailey High School       79.041198\n",
       "Cabrera High School      83.518837\n",
       "Figueroa High School     78.934893\n",
       "Ford High School         78.924425\n",
       "Griffin High School      83.584128\n",
       "Hernandez High School    79.112082\n",
       "Holden High School       83.809133\n",
       "Huang High School        78.906068\n",
       "Johnson High School      79.019429\n",
       "Pena High School         83.942308\n",
       "Rodriguez High School    78.793698\n",
       "Shelton High School      83.542589\n",
       "Thomas High School       83.633639\n",
       "Wilson High School       83.631844\n",
       "Wright High School       83.818611\n",
       "Name: Overall Average, dtype: float64"
      ]
     },
     "execution_count": 9,
     "metadata": {},
     "output_type": "execute_result"
    }
   ],
   "source": [
    "# Calculate the overall average score by school\n",
    "\n",
    "# Merge school_math_average and school_reading_average\n",
    "school_overall_average = pd.merge(school_math_average, school_reading_average, on='school_name', how='outer')\n",
    "school_overall_average[\"Overall Average\"]=(school_overall_average[\"math_score\"]+school_overall_average[\"reading_score\"])/2\n",
    "school_overall_average[\"Overall Average\"]"
   ]
  },
  {
   "cell_type": "code",
   "execution_count": 10,
   "metadata": {},
   "outputs": [
    {
     "name": "stdout",
     "output_type": "stream",
     "text": [
      "Overall Average Score \n"
     ]
    },
    {
     "data": {
      "text/plain": [
       "80.43160582078121"
      ]
     },
     "execution_count": 10,
     "metadata": {},
     "output_type": "execute_result"
    }
   ],
   "source": [
    "# Calculate the overall passing rate (overall average score), i.e. (avg. math score + avg. reading score)/2\n",
    "overall_average_score = (average_math_score + average_reading_score)/2\n",
    "print(\"Overall Average Score \")\n",
    "overall_average_score"
   ]
  },
  {
   "cell_type": "markdown",
   "metadata": {},
   "source": [
    "## Calculate the percentage of students with a passing math score (70 or greater)"
   ]
  },
  {
   "cell_type": "code",
   "execution_count": 11,
   "metadata": {},
   "outputs": [],
   "source": [
    "# Calculate the percentage of students with a passing math score (70 or greater)\n",
    "cond_math = (student_data_df[\"math_score\"] >= 70)\n"
   ]
  },
  {
   "cell_type": "code",
   "execution_count": 12,
   "metadata": {},
   "outputs": [
    {
     "data": {
      "text/plain": [
       "74.9808526933878"
      ]
     },
     "execution_count": 12,
     "metadata": {},
     "output_type": "execute_result"
    }
   ],
   "source": [
    "# Calculate the percentage of students with a passing math score (70 or greater) 29370\n",
    "# Define a condition\n",
    "cond_math = (student_data_df[\"math_score\"] >= 70)\n",
    "\n",
    "student_math70plus_df = student_data_df[cond_math]\n",
    "student_math70plus_df.head()\n",
    "\n",
    "# Calculate the percentage of students with a passing math score (70 or greater) 29370\n",
    "# Total Number of Students with a Math Score of 70 or greater 29370\n",
    "#student_data_df[cond_math].shape\n",
    "\n",
    "# Calculate the percentage of students with a passing math score (70 or greater)\n",
    "math70_percent = len(student_math70plus_df)/len(student_data_df)*100\n",
    "math70_percent"
   ]
  },
  {
   "cell_type": "markdown",
   "metadata": {},
   "source": [
    "## Calculate the percentage of students with a passing reading score (70 or greater)"
   ]
  },
  {
   "cell_type": "code",
   "execution_count": 13,
   "metadata": {},
   "outputs": [
    {
     "data": {
      "text/plain": [
       "85.80546336482001"
      ]
     },
     "execution_count": 13,
     "metadata": {},
     "output_type": "execute_result"
    }
   ],
   "source": [
    "# Calculate the percentage of students with a passing reading score (70 or greater) 33610\n",
    "cond_reading = (student_data_df[\"reading_score\"] >= 70)\n",
    "\n",
    "student_reading70plus_df = student_data_df[cond_reading]\n",
    "student_reading70plus_df.head()\n",
    "\n",
    "# Calculate the percentage of students with a passing reading score (70 or greater) 33610\n",
    "reading70_percent = len(student_data_df[cond_reading])/len(student_data_df) *100\n",
    "reading70_percent"
   ]
  },
  {
   "cell_type": "markdown",
   "metadata": {},
   "source": [
    "## Create a dataframe to hold the above results"
   ]
  },
  {
   "cell_type": "code",
   "execution_count": 14,
   "metadata": {},
   "outputs": [
    {
     "data": {
      "text/html": [
       "<div>\n",
       "<style scoped>\n",
       "    .dataframe tbody tr th:only-of-type {\n",
       "        vertical-align: middle;\n",
       "    }\n",
       "\n",
       "    .dataframe tbody tr th {\n",
       "        vertical-align: top;\n",
       "    }\n",
       "\n",
       "    .dataframe thead th {\n",
       "        text-align: right;\n",
       "    }\n",
       "</style>\n",
       "<table border=\"1\" class=\"dataframe\">\n",
       "  <thead>\n",
       "    <tr style=\"text-align: right;\">\n",
       "      <th></th>\n",
       "      <th>Total Schools</th>\n",
       "      <th>Total Student Count</th>\n",
       "      <th>Total Budget</th>\n",
       "      <th>Average Math Score</th>\n",
       "      <th>Average Reading Score</th>\n",
       "      <th>Student Percent Passing Math</th>\n",
       "      <th>Student Percent Passing Reading</th>\n",
       "      <th>Overall Average Score</th>\n",
       "    </tr>\n",
       "    <tr>\n",
       "      <th>District</th>\n",
       "      <th></th>\n",
       "      <th></th>\n",
       "      <th></th>\n",
       "      <th></th>\n",
       "      <th></th>\n",
       "      <th></th>\n",
       "      <th></th>\n",
       "      <th></th>\n",
       "    </tr>\n",
       "  </thead>\n",
       "  <tbody>\n",
       "    <tr>\n",
       "      <td>District ThisOne</td>\n",
       "      <td>15</td>\n",
       "      <td>39170</td>\n",
       "      <td>24649428</td>\n",
       "      <td>78.985371</td>\n",
       "      <td>81.87784</td>\n",
       "      <td>74.980853</td>\n",
       "      <td>85.805463</td>\n",
       "      <td>80.431606</td>\n",
       "    </tr>\n",
       "  </tbody>\n",
       "</table>\n",
       "</div>"
      ],
      "text/plain": [
       "                  Total Schools  Total Student Count  Total Budget  \\\n",
       "District                                                             \n",
       "District ThisOne             15                39170      24649428   \n",
       "\n",
       "                  Average Math Score  Average Reading Score  \\\n",
       "District                                                      \n",
       "District ThisOne           78.985371               81.87784   \n",
       "\n",
       "                  Student Percent Passing Math  \\\n",
       "District                                         \n",
       "District ThisOne                     74.980853   \n",
       "\n",
       "                  Student Percent Passing Reading  Overall Average Score  \n",
       "District                                                                  \n",
       "District ThisOne                        85.805463              80.431606  "
      ]
     },
     "execution_count": 14,
     "metadata": {},
     "output_type": "execute_result"
    }
   ],
   "source": [
    "district_summary_data ={\"District\": \"District ThisOne\", \\\n",
    "                        \"Total Schools\":total_schools, \\\n",
    "                        \"Total Student Count\":student_count, \\\n",
    "                        \"Total Budget\":total_budget, \\\n",
    "                        \"Average Math Score\":average_math_score, \\\n",
    "                        \"Average Reading Score\":average_reading_score, \\\n",
    "                        \"Student Percent Passing Math\":math70_percent,\\\n",
    "                        \"Student Percent Passing Reading\":reading70_percent, \\\n",
    "                        \"Overall Average Score\":overall_average_score\n",
    "                    }\n",
    "\n",
    "\n",
    "district_summary_df = pd.DataFrame([district_summary_data])\n",
    "district_summary_df\n",
    "district_summary_df = district_summary_df.set_index(\"District\")\n",
    "district_summary_df.head()"
   ]
  },
  {
   "cell_type": "markdown",
   "metadata": {},
   "source": [
    "## District Data for Display "
   ]
  },
  {
   "cell_type": "code",
   "execution_count": 17,
   "metadata": {},
   "outputs": [
    {
     "data": {
      "text/html": [
       "<div>\n",
       "<style scoped>\n",
       "    .dataframe tbody tr th:only-of-type {\n",
       "        vertical-align: middle;\n",
       "    }\n",
       "\n",
       "    .dataframe tbody tr th {\n",
       "        vertical-align: top;\n",
       "    }\n",
       "\n",
       "    .dataframe thead th {\n",
       "        text-align: right;\n",
       "    }\n",
       "</style>\n",
       "<table border=\"1\" class=\"dataframe\">\n",
       "  <thead>\n",
       "    <tr style=\"text-align: right;\">\n",
       "      <th></th>\n",
       "      <th>Total Schools</th>\n",
       "      <th>Total Student Count</th>\n",
       "      <th>Total Budget</th>\n",
       "      <th>Average Math Score</th>\n",
       "      <th>Average Reading Score</th>\n",
       "      <th>Student Percent Passing Math</th>\n",
       "      <th>Student Percent Passing Reading</th>\n",
       "      <th>Overall Average Score</th>\n",
       "    </tr>\n",
       "    <tr>\n",
       "      <th>District</th>\n",
       "      <th></th>\n",
       "      <th></th>\n",
       "      <th></th>\n",
       "      <th></th>\n",
       "      <th></th>\n",
       "      <th></th>\n",
       "      <th></th>\n",
       "      <th></th>\n",
       "    </tr>\n",
       "  </thead>\n",
       "  <tbody>\n",
       "    <tr>\n",
       "      <td>District ThisOne</td>\n",
       "      <td>15 Schools</td>\n",
       "      <td>39170</td>\n",
       "      <td>$24649428</td>\n",
       "      <td>78</td>\n",
       "      <td>81</td>\n",
       "      <td>74</td>\n",
       "      <td>85</td>\n",
       "      <td>80</td>\n",
       "    </tr>\n",
       "  </tbody>\n",
       "</table>\n",
       "</div>"
      ],
      "text/plain": [
       "                 Total Schools Total Student Count Total Budget  \\\n",
       "District                                                          \n",
       "District ThisOne    15 Schools               39170    $24649428   \n",
       "\n",
       "                  Average Math Score  Average Reading Score  \\\n",
       "District                                                      \n",
       "District ThisOne                  78                     81   \n",
       "\n",
       "                  Student Percent Passing Math  \\\n",
       "District                                         \n",
       "District ThisOne                            74   \n",
       "\n",
       "                  Student Percent Passing Reading  Overall Average Score  \n",
       "District                                                                  \n",
       "District ThisOne                               85                     80  "
      ]
     },
     "execution_count": 17,
     "metadata": {},
     "output_type": "execute_result"
    }
   ],
   "source": [
    "district_display ={\"District\": \"District ThisOne\", \\\n",
    "                    \"Total Schools\":str(total_schools)+\" Schools\", \\\n",
    "                    \"Total Student Count\":str(round(student_count,0)), \\\n",
    "                        \"Total Budget\":\"$\"+ str(total_budget), \\\n",
    "                        \"Average Math Score\":int(average_math_score), \\\n",
    "                        \"Average Reading Score\":int(average_reading_score), \\\n",
    "                        \"Student Percent Passing Math\":int(math70_percent), \\\n",
    "                        \"Student Percent Passing Reading\":int(reading70_percent), \\\n",
    "                        \"Overall Average Score\":int(overall_average_score)\n",
    "                    }\n",
    "\n",
    "district_display_df = pd.DataFrame([district_display])\n",
    "district_display_df = district_display_df.set_index(\"District\")\n",
    "district_display_df"
   ]
  },
  {
   "cell_type": "markdown",
   "metadata": {},
   "source": [
    "## School Summary"
   ]
  },
  {
   "cell_type": "markdown",
   "metadata": {},
   "source": [
    "* Create an overview table that summarizes key metrics about each school, including:\n",
    "  * School Name\n",
    "  * School Type\n",
    "  * Total Students\n",
    "  * Total School Budget\n",
    "  * Per Student Budget\n",
    "  * Average Math Score\n",
    "  * Average Reading Score\n",
    "  * % Passing Math\n",
    "  * % Passing Reading\n",
    "  * Overall Passing Rate (Average of the above two)\n",
    "  \n",
    "* Create a dataframe to hold the above results"
   ]
  },
  {
   "cell_type": "markdown",
   "metadata": {},
   "source": [
    "## School Summary"
   ]
  },
  {
   "cell_type": "code",
   "execution_count": 15,
   "metadata": {},
   "outputs": [],
   "source": [
    "#school_data_df = pd.read_csv(school_data_to_load)\n",
    "#student_data_df = pd.read_csv(student_data_to_load)"
   ]
  },
  {
   "cell_type": "code",
   "execution_count": 16,
   "metadata": {},
   "outputs": [
    {
     "data": {
      "text/html": [
       "<div>\n",
       "<style scoped>\n",
       "    .dataframe tbody tr th:only-of-type {\n",
       "        vertical-align: middle;\n",
       "    }\n",
       "\n",
       "    .dataframe tbody tr th {\n",
       "        vertical-align: top;\n",
       "    }\n",
       "\n",
       "    .dataframe thead th {\n",
       "        text-align: right;\n",
       "    }\n",
       "</style>\n",
       "<table border=\"1\" class=\"dataframe\">\n",
       "  <thead>\n",
       "    <tr style=\"text-align: right;\">\n",
       "      <th></th>\n",
       "      <th>School ID</th>\n",
       "      <th>school_name</th>\n",
       "      <th>type</th>\n",
       "      <th>size</th>\n",
       "      <th>budget</th>\n",
       "      <th>Per Student Budget</th>\n",
       "    </tr>\n",
       "  </thead>\n",
       "  <tbody>\n",
       "    <tr>\n",
       "      <td>0</td>\n",
       "      <td>0</td>\n",
       "      <td>Huang High School</td>\n",
       "      <td>District</td>\n",
       "      <td>2917</td>\n",
       "      <td>1910635</td>\n",
       "      <td>655.0</td>\n",
       "    </tr>\n",
       "    <tr>\n",
       "      <td>1</td>\n",
       "      <td>1</td>\n",
       "      <td>Figueroa High School</td>\n",
       "      <td>District</td>\n",
       "      <td>2949</td>\n",
       "      <td>1884411</td>\n",
       "      <td>639.0</td>\n",
       "    </tr>\n",
       "    <tr>\n",
       "      <td>2</td>\n",
       "      <td>2</td>\n",
       "      <td>Shelton High School</td>\n",
       "      <td>Charter</td>\n",
       "      <td>1761</td>\n",
       "      <td>1056600</td>\n",
       "      <td>600.0</td>\n",
       "    </tr>\n",
       "    <tr>\n",
       "      <td>3</td>\n",
       "      <td>3</td>\n",
       "      <td>Hernandez High School</td>\n",
       "      <td>District</td>\n",
       "      <td>4635</td>\n",
       "      <td>3022020</td>\n",
       "      <td>652.0</td>\n",
       "    </tr>\n",
       "    <tr>\n",
       "      <td>4</td>\n",
       "      <td>4</td>\n",
       "      <td>Griffin High School</td>\n",
       "      <td>Charter</td>\n",
       "      <td>1468</td>\n",
       "      <td>917500</td>\n",
       "      <td>625.0</td>\n",
       "    </tr>\n",
       "    <tr>\n",
       "      <td>5</td>\n",
       "      <td>5</td>\n",
       "      <td>Wilson High School</td>\n",
       "      <td>Charter</td>\n",
       "      <td>2283</td>\n",
       "      <td>1319574</td>\n",
       "      <td>578.0</td>\n",
       "    </tr>\n",
       "    <tr>\n",
       "      <td>6</td>\n",
       "      <td>6</td>\n",
       "      <td>Cabrera High School</td>\n",
       "      <td>Charter</td>\n",
       "      <td>1858</td>\n",
       "      <td>1081356</td>\n",
       "      <td>582.0</td>\n",
       "    </tr>\n",
       "    <tr>\n",
       "      <td>7</td>\n",
       "      <td>7</td>\n",
       "      <td>Bailey High School</td>\n",
       "      <td>District</td>\n",
       "      <td>4976</td>\n",
       "      <td>3124928</td>\n",
       "      <td>628.0</td>\n",
       "    </tr>\n",
       "    <tr>\n",
       "      <td>8</td>\n",
       "      <td>8</td>\n",
       "      <td>Holden High School</td>\n",
       "      <td>Charter</td>\n",
       "      <td>427</td>\n",
       "      <td>248087</td>\n",
       "      <td>581.0</td>\n",
       "    </tr>\n",
       "    <tr>\n",
       "      <td>9</td>\n",
       "      <td>9</td>\n",
       "      <td>Pena High School</td>\n",
       "      <td>Charter</td>\n",
       "      <td>962</td>\n",
       "      <td>585858</td>\n",
       "      <td>609.0</td>\n",
       "    </tr>\n",
       "    <tr>\n",
       "      <td>10</td>\n",
       "      <td>10</td>\n",
       "      <td>Wright High School</td>\n",
       "      <td>Charter</td>\n",
       "      <td>1800</td>\n",
       "      <td>1049400</td>\n",
       "      <td>583.0</td>\n",
       "    </tr>\n",
       "    <tr>\n",
       "      <td>11</td>\n",
       "      <td>11</td>\n",
       "      <td>Rodriguez High School</td>\n",
       "      <td>District</td>\n",
       "      <td>3999</td>\n",
       "      <td>2547363</td>\n",
       "      <td>637.0</td>\n",
       "    </tr>\n",
       "    <tr>\n",
       "      <td>12</td>\n",
       "      <td>12</td>\n",
       "      <td>Johnson High School</td>\n",
       "      <td>District</td>\n",
       "      <td>4761</td>\n",
       "      <td>3094650</td>\n",
       "      <td>650.0</td>\n",
       "    </tr>\n",
       "    <tr>\n",
       "      <td>13</td>\n",
       "      <td>13</td>\n",
       "      <td>Ford High School</td>\n",
       "      <td>District</td>\n",
       "      <td>2739</td>\n",
       "      <td>1763916</td>\n",
       "      <td>644.0</td>\n",
       "    </tr>\n",
       "    <tr>\n",
       "      <td>14</td>\n",
       "      <td>14</td>\n",
       "      <td>Thomas High School</td>\n",
       "      <td>Charter</td>\n",
       "      <td>1635</td>\n",
       "      <td>1043130</td>\n",
       "      <td>638.0</td>\n",
       "    </tr>\n",
       "  </tbody>\n",
       "</table>\n",
       "</div>"
      ],
      "text/plain": [
       "    School ID            school_name      type  size   budget  \\\n",
       "0           0      Huang High School  District  2917  1910635   \n",
       "1           1   Figueroa High School  District  2949  1884411   \n",
       "2           2    Shelton High School   Charter  1761  1056600   \n",
       "3           3  Hernandez High School  District  4635  3022020   \n",
       "4           4    Griffin High School   Charter  1468   917500   \n",
       "5           5     Wilson High School   Charter  2283  1319574   \n",
       "6           6    Cabrera High School   Charter  1858  1081356   \n",
       "7           7     Bailey High School  District  4976  3124928   \n",
       "8           8     Holden High School   Charter   427   248087   \n",
       "9           9       Pena High School   Charter   962   585858   \n",
       "10         10     Wright High School   Charter  1800  1049400   \n",
       "11         11  Rodriguez High School  District  3999  2547363   \n",
       "12         12    Johnson High School  District  4761  3094650   \n",
       "13         13       Ford High School  District  2739  1763916   \n",
       "14         14     Thomas High School   Charter  1635  1043130   \n",
       "\n",
       "    Per Student Budget  \n",
       "0                655.0  \n",
       "1                639.0  \n",
       "2                600.0  \n",
       "3                652.0  \n",
       "4                625.0  \n",
       "5                578.0  \n",
       "6                582.0  \n",
       "7                628.0  \n",
       "8                581.0  \n",
       "9                609.0  \n",
       "10               583.0  \n",
       "11               637.0  \n",
       "12               650.0  \n",
       "13               644.0  \n",
       "14               638.0  "
      ]
     },
     "execution_count": 16,
     "metadata": {},
     "output_type": "execute_result"
    }
   ],
   "source": [
    "# New Column: Per Student Budget\n",
    "# school_size should not be ZERO\n",
    "# condition_nonZero\n",
    "condition_nonZero = (school_data_df[\"size\"]!=0)\n",
    "school_df= school_data_df[condition_nonZero]\n",
    "school_df[\"Per Student Budget\"]= school_df[\"budget\"]/school_df[\"size\"]\n",
    "school_df"
   ]
  },
  {
   "cell_type": "markdown",
   "metadata": {},
   "source": [
    "## Create a DataFrame to Examine School Metric"
   ]
  },
  {
   "cell_type": "code",
   "execution_count": 17,
   "metadata": {},
   "outputs": [],
   "source": [
    "school_metric_data=pd.DataFrame()"
   ]
  },
  {
   "cell_type": "code",
   "execution_count": 18,
   "metadata": {},
   "outputs": [
    {
     "data": {
      "text/plain": [
       "(39170, 12)"
      ]
     },
     "execution_count": 18,
     "metadata": {},
     "output_type": "execute_result"
    }
   ],
   "source": [
    "# Merge school_df and student_data_df on key: school_name\n",
    "school_merge_df = pd.merge(school_df, student_data_df, on=[\"school_name\"], how=\"left\")\n",
    "school_merge_df.shape"
   ]
  },
  {
   "cell_type": "code",
   "execution_count": 19,
   "metadata": {},
   "outputs": [
    {
     "data": {
      "text/html": [
       "<div>\n",
       "<style scoped>\n",
       "    .dataframe tbody tr th:only-of-type {\n",
       "        vertical-align: middle;\n",
       "    }\n",
       "\n",
       "    .dataframe tbody tr th {\n",
       "        vertical-align: top;\n",
       "    }\n",
       "\n",
       "    .dataframe thead th {\n",
       "        text-align: right;\n",
       "    }\n",
       "</style>\n",
       "<table border=\"1\" class=\"dataframe\">\n",
       "  <thead>\n",
       "    <tr style=\"text-align: right;\">\n",
       "      <th></th>\n",
       "      <th>school_name</th>\n",
       "      <th>type</th>\n",
       "      <th>size</th>\n",
       "      <th>budget</th>\n",
       "      <th>Per Student Budget</th>\n",
       "      <th>grade</th>\n",
       "      <th>reading_score</th>\n",
       "      <th>math_score</th>\n",
       "    </tr>\n",
       "  </thead>\n",
       "  <tbody>\n",
       "    <tr>\n",
       "      <td>0</td>\n",
       "      <td>Huang High School</td>\n",
       "      <td>District</td>\n",
       "      <td>2917</td>\n",
       "      <td>1910635</td>\n",
       "      <td>655.0</td>\n",
       "      <td>9th</td>\n",
       "      <td>66</td>\n",
       "      <td>79</td>\n",
       "    </tr>\n",
       "    <tr>\n",
       "      <td>1</td>\n",
       "      <td>Huang High School</td>\n",
       "      <td>District</td>\n",
       "      <td>2917</td>\n",
       "      <td>1910635</td>\n",
       "      <td>655.0</td>\n",
       "      <td>12th</td>\n",
       "      <td>94</td>\n",
       "      <td>61</td>\n",
       "    </tr>\n",
       "    <tr>\n",
       "      <td>2</td>\n",
       "      <td>Huang High School</td>\n",
       "      <td>District</td>\n",
       "      <td>2917</td>\n",
       "      <td>1910635</td>\n",
       "      <td>655.0</td>\n",
       "      <td>12th</td>\n",
       "      <td>90</td>\n",
       "      <td>60</td>\n",
       "    </tr>\n",
       "    <tr>\n",
       "      <td>3</td>\n",
       "      <td>Huang High School</td>\n",
       "      <td>District</td>\n",
       "      <td>2917</td>\n",
       "      <td>1910635</td>\n",
       "      <td>655.0</td>\n",
       "      <td>12th</td>\n",
       "      <td>67</td>\n",
       "      <td>58</td>\n",
       "    </tr>\n",
       "    <tr>\n",
       "      <td>4</td>\n",
       "      <td>Huang High School</td>\n",
       "      <td>District</td>\n",
       "      <td>2917</td>\n",
       "      <td>1910635</td>\n",
       "      <td>655.0</td>\n",
       "      <td>9th</td>\n",
       "      <td>97</td>\n",
       "      <td>84</td>\n",
       "    </tr>\n",
       "  </tbody>\n",
       "</table>\n",
       "</div>"
      ],
      "text/plain": [
       "         school_name      type  size   budget  Per Student Budget grade  \\\n",
       "0  Huang High School  District  2917  1910635               655.0   9th   \n",
       "1  Huang High School  District  2917  1910635               655.0  12th   \n",
       "2  Huang High School  District  2917  1910635               655.0  12th   \n",
       "3  Huang High School  District  2917  1910635               655.0  12th   \n",
       "4  Huang High School  District  2917  1910635               655.0   9th   \n",
       "\n",
       "   reading_score  math_score  \n",
       "0             66          79  \n",
       "1             94          61  \n",
       "2             90          60  \n",
       "3             67          58  \n",
       "4             97          84  "
      ]
     },
     "execution_count": 19,
     "metadata": {},
     "output_type": "execute_result"
    }
   ],
   "source": [
    "cols = [\"school_name\", \"type\", \"size\", \"budget\", \"Per Student Budget\", \"grade\", \"reading_score\", \"math_score\"]\n",
    "school_merge_df[cols].head()\n",
    "school_analysis = school_merge_df[cols]\n",
    "school_analysis.shape\n",
    "school_analysis.head()\n",
    "school_analysis.set_index(\"school_name\")\n",
    "school_analysis.head()"
   ]
  },
  {
   "cell_type": "markdown",
   "metadata": {},
   "source": [
    "## Percent Passing Math"
   ]
  },
  {
   "cell_type": "code",
   "execution_count": 20,
   "metadata": {},
   "outputs": [
    {
     "data": {
      "text/plain": [
       "school_name\n",
       "Bailey High School       4976\n",
       "Cabrera High School      1858\n",
       "Figueroa High School     2949\n",
       "Ford High School         2739\n",
       "Griffin High School      1468\n",
       "Hernandez High School    4635\n",
       "Holden High School        427\n",
       "Huang High School        2917\n",
       "Johnson High School      4761\n",
       "Pena High School          962\n",
       "Rodriguez High School    3999\n",
       "Shelton High School      1761\n",
       "Thomas High School       1635\n",
       "Wilson High School       2283\n",
       "Wright High School       1800\n",
       "Name: type, dtype: int64"
      ]
     },
     "execution_count": 20,
     "metadata": {},
     "output_type": "execute_result"
    }
   ],
   "source": [
    "school_count=school_analysis.groupby(\"school_name\").count()\n",
    "#school_count =school_analysis[\"school_name\"].value_counts()\n",
    "school_analysis[\"school_name\"].value_counts()\n",
    "school_count[\"type\"]"
   ]
  },
  {
   "cell_type": "markdown",
   "metadata": {},
   "source": [
    "## Average Math Scores"
   ]
  },
  {
   "cell_type": "code",
   "execution_count": 21,
   "metadata": {},
   "outputs": [],
   "source": [
    "school_math=school_analysis.groupby(\"school_name\")[\"math_score\"]\n",
    "school_math.mean()\n",
    "\n",
    "\n",
    "school_metric_data[\"Average Math Score\"]=school_math.mean()\n"
   ]
  },
  {
   "cell_type": "code",
   "execution_count": 22,
   "metadata": {},
   "outputs": [
    {
     "data": {
      "text/plain": [
       "school_name\n",
       "Bailey High School       3318\n",
       "Cabrera High School      1749\n",
       "Figueroa High School     1946\n",
       "Ford High School         1871\n",
       "Griffin High School      1371\n",
       "Hernandez High School    3094\n",
       "Holden High School        395\n",
       "Huang High School        1916\n",
       "Johnson High School      3145\n",
       "Pena High School          910\n",
       "Rodriguez High School    2654\n",
       "Shelton High School      1653\n",
       "Thomas High School       1525\n",
       "Wilson High School       2143\n",
       "Wright High School       1680\n",
       "Name: type, dtype: int64"
      ]
     },
     "execution_count": 22,
     "metadata": {},
     "output_type": "execute_result"
    }
   ],
   "source": [
    "condition_percent_m = (school_analysis[\"math_score\"]>=70)\n",
    "school_percent_math=school_analysis[condition_percent_m].groupby(\"school_name\").count()\n",
    "school_percent_math[\"type\"]\n"
   ]
  },
  {
   "cell_type": "markdown",
   "metadata": {},
   "source": [
    "## Calculate Percent Passing Math only"
   ]
  },
  {
   "cell_type": "code",
   "execution_count": 23,
   "metadata": {},
   "outputs": [
    {
     "data": {
      "text/plain": [
       "school_name\n",
       "Bailey High School       66.680064\n",
       "Cabrera High School      94.133477\n",
       "Figueroa High School     65.988471\n",
       "Ford High School         68.309602\n",
       "Griffin High School      93.392371\n",
       "Hernandez High School    66.752967\n",
       "Holden High School       92.505855\n",
       "Huang High School        65.683922\n",
       "Johnson High School      66.057551\n",
       "Pena High School         94.594595\n",
       "Rodriguez High School    66.366592\n",
       "Shelton High School      93.867121\n",
       "Thomas High School       93.272171\n",
       "Wilson High School       93.867718\n",
       "Wright High School       93.333333\n",
       "Name: type, dtype: float64"
      ]
     },
     "execution_count": 23,
     "metadata": {},
     "output_type": "execute_result"
    }
   ],
   "source": [
    "school_percent_math= school_percent_math[\"type\"]/school_count[\"type\"]*100\n",
    "#school_metric_data[\"Percent Passing Math\"]=school_percent_math\n",
    "school_percent_math"
   ]
  },
  {
   "cell_type": "markdown",
   "metadata": {},
   "source": [
    "## Average Reading Scores"
   ]
  },
  {
   "cell_type": "code",
   "execution_count": 24,
   "metadata": {},
   "outputs": [],
   "source": [
    "school_read=school_analysis.groupby(\"school_name\")[\"reading_score\"]\n",
    "#school_read.mean()\n",
    "\n",
    "#school_metric_data[\"Average Reading Score\"]=school_read.mean()\n"
   ]
  },
  {
   "cell_type": "markdown",
   "metadata": {},
   "source": [
    "## Percent Passing Reading"
   ]
  },
  {
   "cell_type": "code",
   "execution_count": 25,
   "metadata": {},
   "outputs": [
    {
     "data": {
      "text/plain": [
       "school_name\n",
       "Bailey High School       4077\n",
       "Cabrera High School      1803\n",
       "Figueroa High School     2381\n",
       "Ford High School         2172\n",
       "Griffin High School      1426\n",
       "Hernandez High School    3748\n",
       "Holden High School        411\n",
       "Huang High School        2372\n",
       "Johnson High School      3867\n",
       "Pena High School          923\n",
       "Rodriguez High School    3208\n",
       "Shelton High School      1688\n",
       "Thomas High School       1591\n",
       "Wilson High School       2204\n",
       "Wright High School       1739\n",
       "Name: type, dtype: int64"
      ]
     },
     "execution_count": 25,
     "metadata": {},
     "output_type": "execute_result"
    }
   ],
   "source": [
    "condition_percent_r = (school_analysis[\"reading_score\"]>=70)\n",
    "school_percent_r=school_analysis[condition_percent_r]\n",
    "school_percent_r.groupby(\"school_name\").count()\n",
    "school_percent_read=school_percent_r.groupby(\"school_name\").count()\n",
    "school_percent_read[\"type\"]"
   ]
  },
  {
   "cell_type": "markdown",
   "metadata": {},
   "source": [
    "## Calculate Percent Passing Reading only"
   ]
  },
  {
   "cell_type": "code",
   "execution_count": 26,
   "metadata": {},
   "outputs": [],
   "source": [
    "school_percent_read = (school_percent_read[\"type\"]/school_count[\"type\"])*100\n",
    "\n",
    "#school_metric_data[\"Percent Passing Reading\"]=school_percent_read"
   ]
  },
  {
   "cell_type": "markdown",
   "metadata": {},
   "source": [
    "## Percent Passing Both Reading and Math"
   ]
  },
  {
   "cell_type": "code",
   "execution_count": 27,
   "metadata": {},
   "outputs": [
    {
     "data": {
      "text/plain": [
       "Bailey High School       2719\n",
       "Johnson High School      2549\n",
       "Hernandez High School    2481\n",
       "Rodriguez High School    2119\n",
       "Wilson High School       2068\n",
       "Cabrera High School      1697\n",
       "Wright High School       1626\n",
       "Shelton High School      1583\n",
       "Figueroa High School     1569\n",
       "Huang High School        1561\n",
       "Ford High School         1487\n",
       "Thomas High School       1487\n",
       "Griffin High School      1330\n",
       "Pena High School          871\n",
       "Holden High School        381\n",
       "Name: school_name, dtype: int64"
      ]
     },
     "execution_count": 27,
     "metadata": {},
     "output_type": "execute_result"
    }
   ],
   "source": [
    "condition_percent_r = (school_analysis[\"reading_score\"]>=70)\n",
    "condition_percent_m = (school_analysis[\"math_score\"]>=70)\n",
    "condition_percent_both = condition_percent_r & condition_percent_m\n",
    "\n",
    "school_percent_analysis=school_analysis[condition_percent_both]\n",
    "school_percent_analysis.groupby(\"school_name\").count()\n",
    "school_percent_both = school_percent_analysis[\"school_name\"].value_counts()\n",
    "\n",
    "school_percent_both"
   ]
  },
  {
   "cell_type": "markdown",
   "metadata": {},
   "source": [
    "## Calculate Percent Passing Both Reading and Math"
   ]
  },
  {
   "cell_type": "code",
   "execution_count": 28,
   "metadata": {},
   "outputs": [],
   "source": [
    "school_percent_both = (school_percent_both/school_count)*100\n",
    "#school_metric_data[\"Overall Passing Rate\"]=school_percent_both"
   ]
  },
  {
   "cell_type": "code",
   "execution_count": 29,
   "metadata": {},
   "outputs": [],
   "source": [
    "#school_df"
   ]
  },
  {
   "cell_type": "code",
   "execution_count": 30,
   "metadata": {},
   "outputs": [],
   "source": [
    "#school_metric_data=pd.DataFrame()"
   ]
  },
  {
   "cell_type": "markdown",
   "metadata": {},
   "source": [
    "## DataFrame to Hold School Metric"
   ]
  },
  {
   "cell_type": "code",
   "execution_count": 31,
   "metadata": {},
   "outputs": [
    {
     "data": {
      "text/html": [
       "<div>\n",
       "<style scoped>\n",
       "    .dataframe tbody tr th:only-of-type {\n",
       "        vertical-align: middle;\n",
       "    }\n",
       "\n",
       "    .dataframe tbody tr th {\n",
       "        vertical-align: top;\n",
       "    }\n",
       "\n",
       "    .dataframe thead th {\n",
       "        text-align: right;\n",
       "    }\n",
       "</style>\n",
       "<table border=\"1\" class=\"dataframe\">\n",
       "  <thead>\n",
       "    <tr style=\"text-align: right;\">\n",
       "      <th></th>\n",
       "      <th>Average Math Score</th>\n",
       "      <th>Average Reading Score</th>\n",
       "      <th>Percent Passing Reading</th>\n",
       "      <th>Percent Passing Math</th>\n",
       "    </tr>\n",
       "    <tr>\n",
       "      <th>school_name</th>\n",
       "      <th></th>\n",
       "      <th></th>\n",
       "      <th></th>\n",
       "      <th></th>\n",
       "    </tr>\n",
       "  </thead>\n",
       "  <tbody>\n",
       "    <tr>\n",
       "      <td>Bailey High School</td>\n",
       "      <td>77.048432</td>\n",
       "      <td>81.033963</td>\n",
       "      <td>81.933280</td>\n",
       "      <td>66.680064</td>\n",
       "    </tr>\n",
       "    <tr>\n",
       "      <td>Cabrera High School</td>\n",
       "      <td>83.061895</td>\n",
       "      <td>83.975780</td>\n",
       "      <td>97.039828</td>\n",
       "      <td>94.133477</td>\n",
       "    </tr>\n",
       "    <tr>\n",
       "      <td>Figueroa High School</td>\n",
       "      <td>76.711767</td>\n",
       "      <td>81.158020</td>\n",
       "      <td>80.739234</td>\n",
       "      <td>65.988471</td>\n",
       "    </tr>\n",
       "    <tr>\n",
       "      <td>Ford High School</td>\n",
       "      <td>77.102592</td>\n",
       "      <td>80.746258</td>\n",
       "      <td>79.299014</td>\n",
       "      <td>68.309602</td>\n",
       "    </tr>\n",
       "    <tr>\n",
       "      <td>Griffin High School</td>\n",
       "      <td>83.351499</td>\n",
       "      <td>83.816757</td>\n",
       "      <td>97.138965</td>\n",
       "      <td>93.392371</td>\n",
       "    </tr>\n",
       "    <tr>\n",
       "      <td>Hernandez High School</td>\n",
       "      <td>77.289752</td>\n",
       "      <td>80.934412</td>\n",
       "      <td>80.862999</td>\n",
       "      <td>66.752967</td>\n",
       "    </tr>\n",
       "    <tr>\n",
       "      <td>Holden High School</td>\n",
       "      <td>83.803279</td>\n",
       "      <td>83.814988</td>\n",
       "      <td>96.252927</td>\n",
       "      <td>92.505855</td>\n",
       "    </tr>\n",
       "    <tr>\n",
       "      <td>Huang High School</td>\n",
       "      <td>76.629414</td>\n",
       "      <td>81.182722</td>\n",
       "      <td>81.316421</td>\n",
       "      <td>65.683922</td>\n",
       "    </tr>\n",
       "    <tr>\n",
       "      <td>Johnson High School</td>\n",
       "      <td>77.072464</td>\n",
       "      <td>80.966394</td>\n",
       "      <td>81.222432</td>\n",
       "      <td>66.057551</td>\n",
       "    </tr>\n",
       "    <tr>\n",
       "      <td>Pena High School</td>\n",
       "      <td>83.839917</td>\n",
       "      <td>84.044699</td>\n",
       "      <td>95.945946</td>\n",
       "      <td>94.594595</td>\n",
       "    </tr>\n",
       "    <tr>\n",
       "      <td>Rodriguez High School</td>\n",
       "      <td>76.842711</td>\n",
       "      <td>80.744686</td>\n",
       "      <td>80.220055</td>\n",
       "      <td>66.366592</td>\n",
       "    </tr>\n",
       "    <tr>\n",
       "      <td>Shelton High School</td>\n",
       "      <td>83.359455</td>\n",
       "      <td>83.725724</td>\n",
       "      <td>95.854628</td>\n",
       "      <td>93.867121</td>\n",
       "    </tr>\n",
       "    <tr>\n",
       "      <td>Thomas High School</td>\n",
       "      <td>83.418349</td>\n",
       "      <td>83.848930</td>\n",
       "      <td>97.308869</td>\n",
       "      <td>93.272171</td>\n",
       "    </tr>\n",
       "    <tr>\n",
       "      <td>Wilson High School</td>\n",
       "      <td>83.274201</td>\n",
       "      <td>83.989488</td>\n",
       "      <td>96.539641</td>\n",
       "      <td>93.867718</td>\n",
       "    </tr>\n",
       "    <tr>\n",
       "      <td>Wright High School</td>\n",
       "      <td>83.682222</td>\n",
       "      <td>83.955000</td>\n",
       "      <td>96.611111</td>\n",
       "      <td>93.333333</td>\n",
       "    </tr>\n",
       "  </tbody>\n",
       "</table>\n",
       "</div>"
      ],
      "text/plain": [
       "                       Average Math Score  Average Reading Score  \\\n",
       "school_name                                                        \n",
       "Bailey High School              77.048432              81.033963   \n",
       "Cabrera High School             83.061895              83.975780   \n",
       "Figueroa High School            76.711767              81.158020   \n",
       "Ford High School                77.102592              80.746258   \n",
       "Griffin High School             83.351499              83.816757   \n",
       "Hernandez High School           77.289752              80.934412   \n",
       "Holden High School              83.803279              83.814988   \n",
       "Huang High School               76.629414              81.182722   \n",
       "Johnson High School             77.072464              80.966394   \n",
       "Pena High School                83.839917              84.044699   \n",
       "Rodriguez High School           76.842711              80.744686   \n",
       "Shelton High School             83.359455              83.725724   \n",
       "Thomas High School              83.418349              83.848930   \n",
       "Wilson High School              83.274201              83.989488   \n",
       "Wright High School              83.682222              83.955000   \n",
       "\n",
       "                       Percent Passing Reading  Percent Passing Math  \n",
       "school_name                                                           \n",
       "Bailey High School                   81.933280             66.680064  \n",
       "Cabrera High School                  97.039828             94.133477  \n",
       "Figueroa High School                 80.739234             65.988471  \n",
       "Ford High School                     79.299014             68.309602  \n",
       "Griffin High School                  97.138965             93.392371  \n",
       "Hernandez High School                80.862999             66.752967  \n",
       "Holden High School                   96.252927             92.505855  \n",
       "Huang High School                    81.316421             65.683922  \n",
       "Johnson High School                  81.222432             66.057551  \n",
       "Pena High School                     95.945946             94.594595  \n",
       "Rodriguez High School                80.220055             66.366592  \n",
       "Shelton High School                  95.854628             93.867121  \n",
       "Thomas High School                   97.308869             93.272171  \n",
       "Wilson High School                   96.539641             93.867718  \n",
       "Wright High School                   96.611111             93.333333  "
      ]
     },
     "execution_count": 31,
     "metadata": {},
     "output_type": "execute_result"
    }
   ],
   "source": [
    "school_metric_data[\"Average Reading Score\"]=school_read.mean()\n",
    "school_metric_data[\"Average Math Score\"]=school_math.mean()\n",
    "school_metric_data[\"Percent Passing Reading\"]=school_percent_read\n",
    "school_metric_data[\"Percent Passing Math\"]=school_percent_math\n",
    "\n",
    "\n",
    "#No Formatting\n",
    "school_metric_data\n"
   ]
  },
  {
   "cell_type": "code",
   "execution_count": 32,
   "metadata": {},
   "outputs": [],
   "source": [
    "school_metric_data[\"Overall Passing Rate\"]=(school_metric_data[\"Percent Passing Math\"]+school_metric_data[\"Percent Passing Reading\"])/2"
   ]
  },
  {
   "cell_type": "code",
   "execution_count": 33,
   "metadata": {},
   "outputs": [
    {
     "data": {
      "text/html": [
       "<div>\n",
       "<style scoped>\n",
       "    .dataframe tbody tr th:only-of-type {\n",
       "        vertical-align: middle;\n",
       "    }\n",
       "\n",
       "    .dataframe tbody tr th {\n",
       "        vertical-align: top;\n",
       "    }\n",
       "\n",
       "    .dataframe thead th {\n",
       "        text-align: right;\n",
       "    }\n",
       "</style>\n",
       "<table border=\"1\" class=\"dataframe\">\n",
       "  <thead>\n",
       "    <tr style=\"text-align: right;\">\n",
       "      <th></th>\n",
       "      <th>Average Math Score</th>\n",
       "      <th>Average Reading Score</th>\n",
       "      <th>Percent Passing Reading</th>\n",
       "      <th>Percent Passing Math</th>\n",
       "      <th>Overall Passing Rate</th>\n",
       "    </tr>\n",
       "    <tr>\n",
       "      <th>school_name</th>\n",
       "      <th></th>\n",
       "      <th></th>\n",
       "      <th></th>\n",
       "      <th></th>\n",
       "      <th></th>\n",
       "    </tr>\n",
       "  </thead>\n",
       "  <tbody>\n",
       "    <tr>\n",
       "      <td>Bailey High School</td>\n",
       "      <td>77.048432</td>\n",
       "      <td>81.033963</td>\n",
       "      <td>81.933280</td>\n",
       "      <td>66.680064</td>\n",
       "      <td>74.306672</td>\n",
       "    </tr>\n",
       "    <tr>\n",
       "      <td>Cabrera High School</td>\n",
       "      <td>83.061895</td>\n",
       "      <td>83.975780</td>\n",
       "      <td>97.039828</td>\n",
       "      <td>94.133477</td>\n",
       "      <td>95.586652</td>\n",
       "    </tr>\n",
       "    <tr>\n",
       "      <td>Figueroa High School</td>\n",
       "      <td>76.711767</td>\n",
       "      <td>81.158020</td>\n",
       "      <td>80.739234</td>\n",
       "      <td>65.988471</td>\n",
       "      <td>73.363852</td>\n",
       "    </tr>\n",
       "    <tr>\n",
       "      <td>Ford High School</td>\n",
       "      <td>77.102592</td>\n",
       "      <td>80.746258</td>\n",
       "      <td>79.299014</td>\n",
       "      <td>68.309602</td>\n",
       "      <td>73.804308</td>\n",
       "    </tr>\n",
       "    <tr>\n",
       "      <td>Griffin High School</td>\n",
       "      <td>83.351499</td>\n",
       "      <td>83.816757</td>\n",
       "      <td>97.138965</td>\n",
       "      <td>93.392371</td>\n",
       "      <td>95.265668</td>\n",
       "    </tr>\n",
       "    <tr>\n",
       "      <td>Hernandez High School</td>\n",
       "      <td>77.289752</td>\n",
       "      <td>80.934412</td>\n",
       "      <td>80.862999</td>\n",
       "      <td>66.752967</td>\n",
       "      <td>73.807983</td>\n",
       "    </tr>\n",
       "    <tr>\n",
       "      <td>Holden High School</td>\n",
       "      <td>83.803279</td>\n",
       "      <td>83.814988</td>\n",
       "      <td>96.252927</td>\n",
       "      <td>92.505855</td>\n",
       "      <td>94.379391</td>\n",
       "    </tr>\n",
       "    <tr>\n",
       "      <td>Huang High School</td>\n",
       "      <td>76.629414</td>\n",
       "      <td>81.182722</td>\n",
       "      <td>81.316421</td>\n",
       "      <td>65.683922</td>\n",
       "      <td>73.500171</td>\n",
       "    </tr>\n",
       "    <tr>\n",
       "      <td>Johnson High School</td>\n",
       "      <td>77.072464</td>\n",
       "      <td>80.966394</td>\n",
       "      <td>81.222432</td>\n",
       "      <td>66.057551</td>\n",
       "      <td>73.639992</td>\n",
       "    </tr>\n",
       "    <tr>\n",
       "      <td>Pena High School</td>\n",
       "      <td>83.839917</td>\n",
       "      <td>84.044699</td>\n",
       "      <td>95.945946</td>\n",
       "      <td>94.594595</td>\n",
       "      <td>95.270270</td>\n",
       "    </tr>\n",
       "    <tr>\n",
       "      <td>Rodriguez High School</td>\n",
       "      <td>76.842711</td>\n",
       "      <td>80.744686</td>\n",
       "      <td>80.220055</td>\n",
       "      <td>66.366592</td>\n",
       "      <td>73.293323</td>\n",
       "    </tr>\n",
       "    <tr>\n",
       "      <td>Shelton High School</td>\n",
       "      <td>83.359455</td>\n",
       "      <td>83.725724</td>\n",
       "      <td>95.854628</td>\n",
       "      <td>93.867121</td>\n",
       "      <td>94.860875</td>\n",
       "    </tr>\n",
       "    <tr>\n",
       "      <td>Thomas High School</td>\n",
       "      <td>83.418349</td>\n",
       "      <td>83.848930</td>\n",
       "      <td>97.308869</td>\n",
       "      <td>93.272171</td>\n",
       "      <td>95.290520</td>\n",
       "    </tr>\n",
       "    <tr>\n",
       "      <td>Wilson High School</td>\n",
       "      <td>83.274201</td>\n",
       "      <td>83.989488</td>\n",
       "      <td>96.539641</td>\n",
       "      <td>93.867718</td>\n",
       "      <td>95.203679</td>\n",
       "    </tr>\n",
       "    <tr>\n",
       "      <td>Wright High School</td>\n",
       "      <td>83.682222</td>\n",
       "      <td>83.955000</td>\n",
       "      <td>96.611111</td>\n",
       "      <td>93.333333</td>\n",
       "      <td>94.972222</td>\n",
       "    </tr>\n",
       "  </tbody>\n",
       "</table>\n",
       "</div>"
      ],
      "text/plain": [
       "                       Average Math Score  Average Reading Score  \\\n",
       "school_name                                                        \n",
       "Bailey High School              77.048432              81.033963   \n",
       "Cabrera High School             83.061895              83.975780   \n",
       "Figueroa High School            76.711767              81.158020   \n",
       "Ford High School                77.102592              80.746258   \n",
       "Griffin High School             83.351499              83.816757   \n",
       "Hernandez High School           77.289752              80.934412   \n",
       "Holden High School              83.803279              83.814988   \n",
       "Huang High School               76.629414              81.182722   \n",
       "Johnson High School             77.072464              80.966394   \n",
       "Pena High School                83.839917              84.044699   \n",
       "Rodriguez High School           76.842711              80.744686   \n",
       "Shelton High School             83.359455              83.725724   \n",
       "Thomas High School              83.418349              83.848930   \n",
       "Wilson High School              83.274201              83.989488   \n",
       "Wright High School              83.682222              83.955000   \n",
       "\n",
       "                       Percent Passing Reading  Percent Passing Math  \\\n",
       "school_name                                                            \n",
       "Bailey High School                   81.933280             66.680064   \n",
       "Cabrera High School                  97.039828             94.133477   \n",
       "Figueroa High School                 80.739234             65.988471   \n",
       "Ford High School                     79.299014             68.309602   \n",
       "Griffin High School                  97.138965             93.392371   \n",
       "Hernandez High School                80.862999             66.752967   \n",
       "Holden High School                   96.252927             92.505855   \n",
       "Huang High School                    81.316421             65.683922   \n",
       "Johnson High School                  81.222432             66.057551   \n",
       "Pena High School                     95.945946             94.594595   \n",
       "Rodriguez High School                80.220055             66.366592   \n",
       "Shelton High School                  95.854628             93.867121   \n",
       "Thomas High School                   97.308869             93.272171   \n",
       "Wilson High School                   96.539641             93.867718   \n",
       "Wright High School                   96.611111             93.333333   \n",
       "\n",
       "                       Overall Passing Rate  \n",
       "school_name                                  \n",
       "Bailey High School                74.306672  \n",
       "Cabrera High School               95.586652  \n",
       "Figueroa High School              73.363852  \n",
       "Ford High School                  73.804308  \n",
       "Griffin High School               95.265668  \n",
       "Hernandez High School             73.807983  \n",
       "Holden High School                94.379391  \n",
       "Huang High School                 73.500171  \n",
       "Johnson High School               73.639992  \n",
       "Pena High School                  95.270270  \n",
       "Rodriguez High School             73.293323  \n",
       "Shelton High School               94.860875  \n",
       "Thomas High School                95.290520  \n",
       "Wilson High School                95.203679  \n",
       "Wright High School                94.972222  "
      ]
     },
     "execution_count": 33,
     "metadata": {},
     "output_type": "execute_result"
    }
   ],
   "source": [
    "school_metric_data"
   ]
  },
  {
   "cell_type": "code",
   "execution_count": 34,
   "metadata": {},
   "outputs": [
    {
     "data": {
      "text/html": [
       "<style  type=\"text/css\" >\n",
       "</style><table id=\"T_ff27cd2c_6871_11ea_9548_acde48001122\" ><thead>    <tr>        <th class=\"blank level0\" ></th>        <th class=\"col_heading level0 col0\" >Average Math Score</th>        <th class=\"col_heading level0 col1\" >Average Reading Score</th>        <th class=\"col_heading level0 col2\" >Percent Passing Reading</th>        <th class=\"col_heading level0 col3\" >Percent Passing Math</th>        <th class=\"col_heading level0 col4\" >Overall Passing Rate</th>    </tr>    <tr>        <th class=\"index_name level0\" >school_name</th>        <th class=\"blank\" ></th>        <th class=\"blank\" ></th>        <th class=\"blank\" ></th>        <th class=\"blank\" ></th>        <th class=\"blank\" ></th>    </tr></thead><tbody>\n",
       "                <tr>\n",
       "                        <th id=\"T_ff27cd2c_6871_11ea_9548_acde48001122level0_row0\" class=\"row_heading level0 row0\" >Bailey High School</th>\n",
       "                        <td id=\"T_ff27cd2c_6871_11ea_9548_acde48001122row0_col0\" class=\"data row0 col0\" >77%</td>\n",
       "                        <td id=\"T_ff27cd2c_6871_11ea_9548_acde48001122row0_col1\" class=\"data row0 col1\" >81%</td>\n",
       "                        <td id=\"T_ff27cd2c_6871_11ea_9548_acde48001122row0_col2\" class=\"data row0 col2\" >82%</td>\n",
       "                        <td id=\"T_ff27cd2c_6871_11ea_9548_acde48001122row0_col3\" class=\"data row0 col3\" >67%</td>\n",
       "                        <td id=\"T_ff27cd2c_6871_11ea_9548_acde48001122row0_col4\" class=\"data row0 col4\" >74%</td>\n",
       "            </tr>\n",
       "            <tr>\n",
       "                        <th id=\"T_ff27cd2c_6871_11ea_9548_acde48001122level0_row1\" class=\"row_heading level0 row1\" >Cabrera High School</th>\n",
       "                        <td id=\"T_ff27cd2c_6871_11ea_9548_acde48001122row1_col0\" class=\"data row1 col0\" >83%</td>\n",
       "                        <td id=\"T_ff27cd2c_6871_11ea_9548_acde48001122row1_col1\" class=\"data row1 col1\" >84%</td>\n",
       "                        <td id=\"T_ff27cd2c_6871_11ea_9548_acde48001122row1_col2\" class=\"data row1 col2\" >97%</td>\n",
       "                        <td id=\"T_ff27cd2c_6871_11ea_9548_acde48001122row1_col3\" class=\"data row1 col3\" >94%</td>\n",
       "                        <td id=\"T_ff27cd2c_6871_11ea_9548_acde48001122row1_col4\" class=\"data row1 col4\" >96%</td>\n",
       "            </tr>\n",
       "            <tr>\n",
       "                        <th id=\"T_ff27cd2c_6871_11ea_9548_acde48001122level0_row2\" class=\"row_heading level0 row2\" >Figueroa High School</th>\n",
       "                        <td id=\"T_ff27cd2c_6871_11ea_9548_acde48001122row2_col0\" class=\"data row2 col0\" >77%</td>\n",
       "                        <td id=\"T_ff27cd2c_6871_11ea_9548_acde48001122row2_col1\" class=\"data row2 col1\" >81%</td>\n",
       "                        <td id=\"T_ff27cd2c_6871_11ea_9548_acde48001122row2_col2\" class=\"data row2 col2\" >81%</td>\n",
       "                        <td id=\"T_ff27cd2c_6871_11ea_9548_acde48001122row2_col3\" class=\"data row2 col3\" >66%</td>\n",
       "                        <td id=\"T_ff27cd2c_6871_11ea_9548_acde48001122row2_col4\" class=\"data row2 col4\" >73%</td>\n",
       "            </tr>\n",
       "            <tr>\n",
       "                        <th id=\"T_ff27cd2c_6871_11ea_9548_acde48001122level0_row3\" class=\"row_heading level0 row3\" >Ford High School</th>\n",
       "                        <td id=\"T_ff27cd2c_6871_11ea_9548_acde48001122row3_col0\" class=\"data row3 col0\" >77%</td>\n",
       "                        <td id=\"T_ff27cd2c_6871_11ea_9548_acde48001122row3_col1\" class=\"data row3 col1\" >81%</td>\n",
       "                        <td id=\"T_ff27cd2c_6871_11ea_9548_acde48001122row3_col2\" class=\"data row3 col2\" >79%</td>\n",
       "                        <td id=\"T_ff27cd2c_6871_11ea_9548_acde48001122row3_col3\" class=\"data row3 col3\" >68%</td>\n",
       "                        <td id=\"T_ff27cd2c_6871_11ea_9548_acde48001122row3_col4\" class=\"data row3 col4\" >74%</td>\n",
       "            </tr>\n",
       "            <tr>\n",
       "                        <th id=\"T_ff27cd2c_6871_11ea_9548_acde48001122level0_row4\" class=\"row_heading level0 row4\" >Griffin High School</th>\n",
       "                        <td id=\"T_ff27cd2c_6871_11ea_9548_acde48001122row4_col0\" class=\"data row4 col0\" >83%</td>\n",
       "                        <td id=\"T_ff27cd2c_6871_11ea_9548_acde48001122row4_col1\" class=\"data row4 col1\" >84%</td>\n",
       "                        <td id=\"T_ff27cd2c_6871_11ea_9548_acde48001122row4_col2\" class=\"data row4 col2\" >97%</td>\n",
       "                        <td id=\"T_ff27cd2c_6871_11ea_9548_acde48001122row4_col3\" class=\"data row4 col3\" >93%</td>\n",
       "                        <td id=\"T_ff27cd2c_6871_11ea_9548_acde48001122row4_col4\" class=\"data row4 col4\" >95%</td>\n",
       "            </tr>\n",
       "            <tr>\n",
       "                        <th id=\"T_ff27cd2c_6871_11ea_9548_acde48001122level0_row5\" class=\"row_heading level0 row5\" >Hernandez High School</th>\n",
       "                        <td id=\"T_ff27cd2c_6871_11ea_9548_acde48001122row5_col0\" class=\"data row5 col0\" >77%</td>\n",
       "                        <td id=\"T_ff27cd2c_6871_11ea_9548_acde48001122row5_col1\" class=\"data row5 col1\" >81%</td>\n",
       "                        <td id=\"T_ff27cd2c_6871_11ea_9548_acde48001122row5_col2\" class=\"data row5 col2\" >81%</td>\n",
       "                        <td id=\"T_ff27cd2c_6871_11ea_9548_acde48001122row5_col3\" class=\"data row5 col3\" >67%</td>\n",
       "                        <td id=\"T_ff27cd2c_6871_11ea_9548_acde48001122row5_col4\" class=\"data row5 col4\" >74%</td>\n",
       "            </tr>\n",
       "            <tr>\n",
       "                        <th id=\"T_ff27cd2c_6871_11ea_9548_acde48001122level0_row6\" class=\"row_heading level0 row6\" >Holden High School</th>\n",
       "                        <td id=\"T_ff27cd2c_6871_11ea_9548_acde48001122row6_col0\" class=\"data row6 col0\" >84%</td>\n",
       "                        <td id=\"T_ff27cd2c_6871_11ea_9548_acde48001122row6_col1\" class=\"data row6 col1\" >84%</td>\n",
       "                        <td id=\"T_ff27cd2c_6871_11ea_9548_acde48001122row6_col2\" class=\"data row6 col2\" >96%</td>\n",
       "                        <td id=\"T_ff27cd2c_6871_11ea_9548_acde48001122row6_col3\" class=\"data row6 col3\" >93%</td>\n",
       "                        <td id=\"T_ff27cd2c_6871_11ea_9548_acde48001122row6_col4\" class=\"data row6 col4\" >94%</td>\n",
       "            </tr>\n",
       "            <tr>\n",
       "                        <th id=\"T_ff27cd2c_6871_11ea_9548_acde48001122level0_row7\" class=\"row_heading level0 row7\" >Huang High School</th>\n",
       "                        <td id=\"T_ff27cd2c_6871_11ea_9548_acde48001122row7_col0\" class=\"data row7 col0\" >77%</td>\n",
       "                        <td id=\"T_ff27cd2c_6871_11ea_9548_acde48001122row7_col1\" class=\"data row7 col1\" >81%</td>\n",
       "                        <td id=\"T_ff27cd2c_6871_11ea_9548_acde48001122row7_col2\" class=\"data row7 col2\" >81%</td>\n",
       "                        <td id=\"T_ff27cd2c_6871_11ea_9548_acde48001122row7_col3\" class=\"data row7 col3\" >66%</td>\n",
       "                        <td id=\"T_ff27cd2c_6871_11ea_9548_acde48001122row7_col4\" class=\"data row7 col4\" >74%</td>\n",
       "            </tr>\n",
       "            <tr>\n",
       "                        <th id=\"T_ff27cd2c_6871_11ea_9548_acde48001122level0_row8\" class=\"row_heading level0 row8\" >Johnson High School</th>\n",
       "                        <td id=\"T_ff27cd2c_6871_11ea_9548_acde48001122row8_col0\" class=\"data row8 col0\" >77%</td>\n",
       "                        <td id=\"T_ff27cd2c_6871_11ea_9548_acde48001122row8_col1\" class=\"data row8 col1\" >81%</td>\n",
       "                        <td id=\"T_ff27cd2c_6871_11ea_9548_acde48001122row8_col2\" class=\"data row8 col2\" >81%</td>\n",
       "                        <td id=\"T_ff27cd2c_6871_11ea_9548_acde48001122row8_col3\" class=\"data row8 col3\" >66%</td>\n",
       "                        <td id=\"T_ff27cd2c_6871_11ea_9548_acde48001122row8_col4\" class=\"data row8 col4\" >74%</td>\n",
       "            </tr>\n",
       "            <tr>\n",
       "                        <th id=\"T_ff27cd2c_6871_11ea_9548_acde48001122level0_row9\" class=\"row_heading level0 row9\" >Pena High School</th>\n",
       "                        <td id=\"T_ff27cd2c_6871_11ea_9548_acde48001122row9_col0\" class=\"data row9 col0\" >84%</td>\n",
       "                        <td id=\"T_ff27cd2c_6871_11ea_9548_acde48001122row9_col1\" class=\"data row9 col1\" >84%</td>\n",
       "                        <td id=\"T_ff27cd2c_6871_11ea_9548_acde48001122row9_col2\" class=\"data row9 col2\" >96%</td>\n",
       "                        <td id=\"T_ff27cd2c_6871_11ea_9548_acde48001122row9_col3\" class=\"data row9 col3\" >95%</td>\n",
       "                        <td id=\"T_ff27cd2c_6871_11ea_9548_acde48001122row9_col4\" class=\"data row9 col4\" >95%</td>\n",
       "            </tr>\n",
       "            <tr>\n",
       "                        <th id=\"T_ff27cd2c_6871_11ea_9548_acde48001122level0_row10\" class=\"row_heading level0 row10\" >Rodriguez High School</th>\n",
       "                        <td id=\"T_ff27cd2c_6871_11ea_9548_acde48001122row10_col0\" class=\"data row10 col0\" >77%</td>\n",
       "                        <td id=\"T_ff27cd2c_6871_11ea_9548_acde48001122row10_col1\" class=\"data row10 col1\" >81%</td>\n",
       "                        <td id=\"T_ff27cd2c_6871_11ea_9548_acde48001122row10_col2\" class=\"data row10 col2\" >80%</td>\n",
       "                        <td id=\"T_ff27cd2c_6871_11ea_9548_acde48001122row10_col3\" class=\"data row10 col3\" >66%</td>\n",
       "                        <td id=\"T_ff27cd2c_6871_11ea_9548_acde48001122row10_col4\" class=\"data row10 col4\" >73%</td>\n",
       "            </tr>\n",
       "            <tr>\n",
       "                        <th id=\"T_ff27cd2c_6871_11ea_9548_acde48001122level0_row11\" class=\"row_heading level0 row11\" >Shelton High School</th>\n",
       "                        <td id=\"T_ff27cd2c_6871_11ea_9548_acde48001122row11_col0\" class=\"data row11 col0\" >83%</td>\n",
       "                        <td id=\"T_ff27cd2c_6871_11ea_9548_acde48001122row11_col1\" class=\"data row11 col1\" >84%</td>\n",
       "                        <td id=\"T_ff27cd2c_6871_11ea_9548_acde48001122row11_col2\" class=\"data row11 col2\" >96%</td>\n",
       "                        <td id=\"T_ff27cd2c_6871_11ea_9548_acde48001122row11_col3\" class=\"data row11 col3\" >94%</td>\n",
       "                        <td id=\"T_ff27cd2c_6871_11ea_9548_acde48001122row11_col4\" class=\"data row11 col4\" >95%</td>\n",
       "            </tr>\n",
       "            <tr>\n",
       "                        <th id=\"T_ff27cd2c_6871_11ea_9548_acde48001122level0_row12\" class=\"row_heading level0 row12\" >Thomas High School</th>\n",
       "                        <td id=\"T_ff27cd2c_6871_11ea_9548_acde48001122row12_col0\" class=\"data row12 col0\" >83%</td>\n",
       "                        <td id=\"T_ff27cd2c_6871_11ea_9548_acde48001122row12_col1\" class=\"data row12 col1\" >84%</td>\n",
       "                        <td id=\"T_ff27cd2c_6871_11ea_9548_acde48001122row12_col2\" class=\"data row12 col2\" >97%</td>\n",
       "                        <td id=\"T_ff27cd2c_6871_11ea_9548_acde48001122row12_col3\" class=\"data row12 col3\" >93%</td>\n",
       "                        <td id=\"T_ff27cd2c_6871_11ea_9548_acde48001122row12_col4\" class=\"data row12 col4\" >95%</td>\n",
       "            </tr>\n",
       "            <tr>\n",
       "                        <th id=\"T_ff27cd2c_6871_11ea_9548_acde48001122level0_row13\" class=\"row_heading level0 row13\" >Wilson High School</th>\n",
       "                        <td id=\"T_ff27cd2c_6871_11ea_9548_acde48001122row13_col0\" class=\"data row13 col0\" >83%</td>\n",
       "                        <td id=\"T_ff27cd2c_6871_11ea_9548_acde48001122row13_col1\" class=\"data row13 col1\" >84%</td>\n",
       "                        <td id=\"T_ff27cd2c_6871_11ea_9548_acde48001122row13_col2\" class=\"data row13 col2\" >97%</td>\n",
       "                        <td id=\"T_ff27cd2c_6871_11ea_9548_acde48001122row13_col3\" class=\"data row13 col3\" >94%</td>\n",
       "                        <td id=\"T_ff27cd2c_6871_11ea_9548_acde48001122row13_col4\" class=\"data row13 col4\" >95%</td>\n",
       "            </tr>\n",
       "            <tr>\n",
       "                        <th id=\"T_ff27cd2c_6871_11ea_9548_acde48001122level0_row14\" class=\"row_heading level0 row14\" >Wright High School</th>\n",
       "                        <td id=\"T_ff27cd2c_6871_11ea_9548_acde48001122row14_col0\" class=\"data row14 col0\" >84%</td>\n",
       "                        <td id=\"T_ff27cd2c_6871_11ea_9548_acde48001122row14_col1\" class=\"data row14 col1\" >84%</td>\n",
       "                        <td id=\"T_ff27cd2c_6871_11ea_9548_acde48001122row14_col2\" class=\"data row14 col2\" >97%</td>\n",
       "                        <td id=\"T_ff27cd2c_6871_11ea_9548_acde48001122row14_col3\" class=\"data row14 col3\" >93%</td>\n",
       "                        <td id=\"T_ff27cd2c_6871_11ea_9548_acde48001122row14_col4\" class=\"data row14 col4\" >95%</td>\n",
       "            </tr>\n",
       "    </tbody></table>"
      ],
      "text/plain": [
       "<pandas.io.formats.style.Styler at 0x116b783d0>"
      ]
     },
     "execution_count": 34,
     "metadata": {},
     "output_type": "execute_result"
    }
   ],
   "source": [
    "#school_metric_display\n",
    "# Use Pandas .style.format method to change the display\n",
    "school_metric_data.style.format(\"{:.0f}%\")"
   ]
  },
  {
   "cell_type": "code",
   "execution_count": 35,
   "metadata": {},
   "outputs": [
    {
     "data": {
      "text/html": [
       "<div>\n",
       "<style scoped>\n",
       "    .dataframe tbody tr th:only-of-type {\n",
       "        vertical-align: middle;\n",
       "    }\n",
       "\n",
       "    .dataframe tbody tr th {\n",
       "        vertical-align: top;\n",
       "    }\n",
       "\n",
       "    .dataframe thead th {\n",
       "        text-align: right;\n",
       "    }\n",
       "</style>\n",
       "<table border=\"1\" class=\"dataframe\">\n",
       "  <thead>\n",
       "    <tr style=\"text-align: right;\">\n",
       "      <th></th>\n",
       "      <th>School ID</th>\n",
       "      <th>school_name</th>\n",
       "      <th>type</th>\n",
       "      <th>size</th>\n",
       "      <th>budget</th>\n",
       "      <th>Per Student Budget</th>\n",
       "      <th>Average Math Score</th>\n",
       "      <th>Average Reading Score</th>\n",
       "      <th>Percent Passing Reading</th>\n",
       "      <th>Percent Passing Math</th>\n",
       "      <th>Overall Passing Rate</th>\n",
       "    </tr>\n",
       "  </thead>\n",
       "  <tbody>\n",
       "    <tr>\n",
       "      <td>0</td>\n",
       "      <td>0</td>\n",
       "      <td>Huang High School</td>\n",
       "      <td>District</td>\n",
       "      <td>2917</td>\n",
       "      <td>1910635</td>\n",
       "      <td>655.0</td>\n",
       "      <td>76.629414</td>\n",
       "      <td>81.182722</td>\n",
       "      <td>81.316421</td>\n",
       "      <td>65.683922</td>\n",
       "      <td>73.500171</td>\n",
       "    </tr>\n",
       "    <tr>\n",
       "      <td>1</td>\n",
       "      <td>1</td>\n",
       "      <td>Figueroa High School</td>\n",
       "      <td>District</td>\n",
       "      <td>2949</td>\n",
       "      <td>1884411</td>\n",
       "      <td>639.0</td>\n",
       "      <td>76.711767</td>\n",
       "      <td>81.158020</td>\n",
       "      <td>80.739234</td>\n",
       "      <td>65.988471</td>\n",
       "      <td>73.363852</td>\n",
       "    </tr>\n",
       "    <tr>\n",
       "      <td>2</td>\n",
       "      <td>2</td>\n",
       "      <td>Shelton High School</td>\n",
       "      <td>Charter</td>\n",
       "      <td>1761</td>\n",
       "      <td>1056600</td>\n",
       "      <td>600.0</td>\n",
       "      <td>83.359455</td>\n",
       "      <td>83.725724</td>\n",
       "      <td>95.854628</td>\n",
       "      <td>93.867121</td>\n",
       "      <td>94.860875</td>\n",
       "    </tr>\n",
       "    <tr>\n",
       "      <td>3</td>\n",
       "      <td>3</td>\n",
       "      <td>Hernandez High School</td>\n",
       "      <td>District</td>\n",
       "      <td>4635</td>\n",
       "      <td>3022020</td>\n",
       "      <td>652.0</td>\n",
       "      <td>77.289752</td>\n",
       "      <td>80.934412</td>\n",
       "      <td>80.862999</td>\n",
       "      <td>66.752967</td>\n",
       "      <td>73.807983</td>\n",
       "    </tr>\n",
       "    <tr>\n",
       "      <td>4</td>\n",
       "      <td>4</td>\n",
       "      <td>Griffin High School</td>\n",
       "      <td>Charter</td>\n",
       "      <td>1468</td>\n",
       "      <td>917500</td>\n",
       "      <td>625.0</td>\n",
       "      <td>83.351499</td>\n",
       "      <td>83.816757</td>\n",
       "      <td>97.138965</td>\n",
       "      <td>93.392371</td>\n",
       "      <td>95.265668</td>\n",
       "    </tr>\n",
       "    <tr>\n",
       "      <td>5</td>\n",
       "      <td>5</td>\n",
       "      <td>Wilson High School</td>\n",
       "      <td>Charter</td>\n",
       "      <td>2283</td>\n",
       "      <td>1319574</td>\n",
       "      <td>578.0</td>\n",
       "      <td>83.274201</td>\n",
       "      <td>83.989488</td>\n",
       "      <td>96.539641</td>\n",
       "      <td>93.867718</td>\n",
       "      <td>95.203679</td>\n",
       "    </tr>\n",
       "    <tr>\n",
       "      <td>6</td>\n",
       "      <td>6</td>\n",
       "      <td>Cabrera High School</td>\n",
       "      <td>Charter</td>\n",
       "      <td>1858</td>\n",
       "      <td>1081356</td>\n",
       "      <td>582.0</td>\n",
       "      <td>83.061895</td>\n",
       "      <td>83.975780</td>\n",
       "      <td>97.039828</td>\n",
       "      <td>94.133477</td>\n",
       "      <td>95.586652</td>\n",
       "    </tr>\n",
       "    <tr>\n",
       "      <td>7</td>\n",
       "      <td>7</td>\n",
       "      <td>Bailey High School</td>\n",
       "      <td>District</td>\n",
       "      <td>4976</td>\n",
       "      <td>3124928</td>\n",
       "      <td>628.0</td>\n",
       "      <td>77.048432</td>\n",
       "      <td>81.033963</td>\n",
       "      <td>81.933280</td>\n",
       "      <td>66.680064</td>\n",
       "      <td>74.306672</td>\n",
       "    </tr>\n",
       "    <tr>\n",
       "      <td>8</td>\n",
       "      <td>8</td>\n",
       "      <td>Holden High School</td>\n",
       "      <td>Charter</td>\n",
       "      <td>427</td>\n",
       "      <td>248087</td>\n",
       "      <td>581.0</td>\n",
       "      <td>83.803279</td>\n",
       "      <td>83.814988</td>\n",
       "      <td>96.252927</td>\n",
       "      <td>92.505855</td>\n",
       "      <td>94.379391</td>\n",
       "    </tr>\n",
       "    <tr>\n",
       "      <td>9</td>\n",
       "      <td>9</td>\n",
       "      <td>Pena High School</td>\n",
       "      <td>Charter</td>\n",
       "      <td>962</td>\n",
       "      <td>585858</td>\n",
       "      <td>609.0</td>\n",
       "      <td>83.839917</td>\n",
       "      <td>84.044699</td>\n",
       "      <td>95.945946</td>\n",
       "      <td>94.594595</td>\n",
       "      <td>95.270270</td>\n",
       "    </tr>\n",
       "    <tr>\n",
       "      <td>10</td>\n",
       "      <td>10</td>\n",
       "      <td>Wright High School</td>\n",
       "      <td>Charter</td>\n",
       "      <td>1800</td>\n",
       "      <td>1049400</td>\n",
       "      <td>583.0</td>\n",
       "      <td>83.682222</td>\n",
       "      <td>83.955000</td>\n",
       "      <td>96.611111</td>\n",
       "      <td>93.333333</td>\n",
       "      <td>94.972222</td>\n",
       "    </tr>\n",
       "    <tr>\n",
       "      <td>11</td>\n",
       "      <td>11</td>\n",
       "      <td>Rodriguez High School</td>\n",
       "      <td>District</td>\n",
       "      <td>3999</td>\n",
       "      <td>2547363</td>\n",
       "      <td>637.0</td>\n",
       "      <td>76.842711</td>\n",
       "      <td>80.744686</td>\n",
       "      <td>80.220055</td>\n",
       "      <td>66.366592</td>\n",
       "      <td>73.293323</td>\n",
       "    </tr>\n",
       "    <tr>\n",
       "      <td>12</td>\n",
       "      <td>12</td>\n",
       "      <td>Johnson High School</td>\n",
       "      <td>District</td>\n",
       "      <td>4761</td>\n",
       "      <td>3094650</td>\n",
       "      <td>650.0</td>\n",
       "      <td>77.072464</td>\n",
       "      <td>80.966394</td>\n",
       "      <td>81.222432</td>\n",
       "      <td>66.057551</td>\n",
       "      <td>73.639992</td>\n",
       "    </tr>\n",
       "    <tr>\n",
       "      <td>13</td>\n",
       "      <td>13</td>\n",
       "      <td>Ford High School</td>\n",
       "      <td>District</td>\n",
       "      <td>2739</td>\n",
       "      <td>1763916</td>\n",
       "      <td>644.0</td>\n",
       "      <td>77.102592</td>\n",
       "      <td>80.746258</td>\n",
       "      <td>79.299014</td>\n",
       "      <td>68.309602</td>\n",
       "      <td>73.804308</td>\n",
       "    </tr>\n",
       "    <tr>\n",
       "      <td>14</td>\n",
       "      <td>14</td>\n",
       "      <td>Thomas High School</td>\n",
       "      <td>Charter</td>\n",
       "      <td>1635</td>\n",
       "      <td>1043130</td>\n",
       "      <td>638.0</td>\n",
       "      <td>83.418349</td>\n",
       "      <td>83.848930</td>\n",
       "      <td>97.308869</td>\n",
       "      <td>93.272171</td>\n",
       "      <td>95.290520</td>\n",
       "    </tr>\n",
       "  </tbody>\n",
       "</table>\n",
       "</div>"
      ],
      "text/plain": [
       "    School ID            school_name      type  size   budget  \\\n",
       "0           0      Huang High School  District  2917  1910635   \n",
       "1           1   Figueroa High School  District  2949  1884411   \n",
       "2           2    Shelton High School   Charter  1761  1056600   \n",
       "3           3  Hernandez High School  District  4635  3022020   \n",
       "4           4    Griffin High School   Charter  1468   917500   \n",
       "5           5     Wilson High School   Charter  2283  1319574   \n",
       "6           6    Cabrera High School   Charter  1858  1081356   \n",
       "7           7     Bailey High School  District  4976  3124928   \n",
       "8           8     Holden High School   Charter   427   248087   \n",
       "9           9       Pena High School   Charter   962   585858   \n",
       "10         10     Wright High School   Charter  1800  1049400   \n",
       "11         11  Rodriguez High School  District  3999  2547363   \n",
       "12         12    Johnson High School  District  4761  3094650   \n",
       "13         13       Ford High School  District  2739  1763916   \n",
       "14         14     Thomas High School   Charter  1635  1043130   \n",
       "\n",
       "    Per Student Budget  Average Math Score  Average Reading Score  \\\n",
       "0                655.0           76.629414              81.182722   \n",
       "1                639.0           76.711767              81.158020   \n",
       "2                600.0           83.359455              83.725724   \n",
       "3                652.0           77.289752              80.934412   \n",
       "4                625.0           83.351499              83.816757   \n",
       "5                578.0           83.274201              83.989488   \n",
       "6                582.0           83.061895              83.975780   \n",
       "7                628.0           77.048432              81.033963   \n",
       "8                581.0           83.803279              83.814988   \n",
       "9                609.0           83.839917              84.044699   \n",
       "10               583.0           83.682222              83.955000   \n",
       "11               637.0           76.842711              80.744686   \n",
       "12               650.0           77.072464              80.966394   \n",
       "13               644.0           77.102592              80.746258   \n",
       "14               638.0           83.418349              83.848930   \n",
       "\n",
       "    Percent Passing Reading  Percent Passing Math  Overall Passing Rate  \n",
       "0                 81.316421             65.683922             73.500171  \n",
       "1                 80.739234             65.988471             73.363852  \n",
       "2                 95.854628             93.867121             94.860875  \n",
       "3                 80.862999             66.752967             73.807983  \n",
       "4                 97.138965             93.392371             95.265668  \n",
       "5                 96.539641             93.867718             95.203679  \n",
       "6                 97.039828             94.133477             95.586652  \n",
       "7                 81.933280             66.680064             74.306672  \n",
       "8                 96.252927             92.505855             94.379391  \n",
       "9                 95.945946             94.594595             95.270270  \n",
       "10                96.611111             93.333333             94.972222  \n",
       "11                80.220055             66.366592             73.293323  \n",
       "12                81.222432             66.057551             73.639992  \n",
       "13                79.299014             68.309602             73.804308  \n",
       "14                97.308869             93.272171             95.290520  "
      ]
     },
     "execution_count": 35,
     "metadata": {},
     "output_type": "execute_result"
    }
   ],
   "source": [
    "school_metric_data = pd.merge(school_df, school_metric_data, on=\"school_name\", how=\"left\")\n",
    "school_metric_data"
   ]
  },
  {
   "cell_type": "code",
   "execution_count": null,
   "metadata": {},
   "outputs": [],
   "source": [
    "school_metric_data=school_metric_data.rename(columns={\"school_name\":\"School Name\", \"type\":\"Type\", \"size\":\"Size\", \"budget\":\"Budget\"})"
   ]
  },
  {
   "cell_type": "code",
   "execution_count": null,
   "metadata": {},
   "outputs": [],
   "source": [
    "school_metric_data"
   ]
  },
  {
   "cell_type": "markdown",
   "metadata": {},
   "source": [
    "## DataFrame to hold School Metric with some formatting"
   ]
  },
  {
   "cell_type": "markdown",
   "metadata": {},
   "source": [
    "## Analyze 9th Grade Scores in each School"
   ]
  },
  {
   "cell_type": "code",
   "execution_count": null,
   "metadata": {},
   "outputs": [],
   "source": [
    "condition_9th=(school_analysis[\"grade\"]==\"9th\")\n",
    "school_analysis_9th=school_analysis[condition_9th]\n",
    "school_analysis_9th.head()\n",
    "Grade_9th_total = len(school_analysis_9th)\n",
    "print(Grade_9th_total)\n",
    "\n",
    "school_analysis_9th.groupby(\"school_name\")[\"reading_score\"].describe()\n",
    "school_analysis_9th.groupby(\"school_name\")[\"math_score\"].describe()\n",
    "school_9th_reading = school_analysis_9th.groupby(\"school_name\")[\"reading_score\"].mean()\n",
    "school_9th_math = school_analysis_9th.groupby(\"school_name\")[\"math_score\"].mean()\n",
    "\n",
    "school_9th=pd.merge(school_9th_reading, school_9th_math, on=[\"school_name\"], how=\"outer\")\n",
    "school_9th=school_9th.rename(columns={\"reading_score\":\"Grade 9th Avg.Reading\", \"math_score\":\"Grade 9th Avg.Math\"})\n",
    "\n",
    "school_9th\n"
   ]
  },
  {
   "cell_type": "code",
   "execution_count": null,
   "metadata": {},
   "outputs": [],
   "source": [
    "school_analysis_9th.groupby(\"school_name\")[\"math_score\"].describe()"
   ]
  },
  {
   "cell_type": "code",
   "execution_count": null,
   "metadata": {},
   "outputs": [],
   "source": [
    "#school_9th\n",
    "school_9th\n",
    "\n",
    "\n",
    "cond_math = (school_9th[\"Grade 9th Avg.Math\"] >= 70)\n",
    "student_math70plus_df = school_9th[cond_math]\n",
    "student_math70plus_df.head()\n",
    "\n",
    "\n",
    "cond_read = (school_9th[\"Grade 9th Avg.Reading\"] >= 70)\n",
    "student_read70plus_df = school_9th[cond_read]\n",
    "student_read70plus_df.head()\n",
    "\n",
    "\n",
    "cond_both = cond_math & cond_read\n",
    "student_9th_70plus = school_9th[cond_both]\n",
    "student_9th_70plus\n",
    "\n",
    "\n",
    "\n"
   ]
  },
  {
   "cell_type": "markdown",
   "metadata": {},
   "source": [
    "## Analyze 10th Grade Scores in each School"
   ]
  },
  {
   "cell_type": "code",
   "execution_count": null,
   "metadata": {},
   "outputs": [],
   "source": [
    "condition_10th=(school_analysis[\"grade\"]==\"10th\")\n",
    "school_analysis_10th=school_analysis[condition_10th]\n",
    "school_analysis_10th.head()\n",
    "school_analysis_10th.groupby(\"school_name\")[\"reading_score\"].describe()\n",
    "school_analysis_10th.groupby(\"school_name\")[\"math_score\"].describe()\n",
    "school_10th_reading = school_analysis_10th.groupby(\"school_name\")[\"reading_score\"].mean()\n",
    "school_10th_math = school_analysis_10th.groupby(\"school_name\")[\"math_score\"].mean()\n",
    "\n",
    "school_10th=pd.merge(school_10th_reading, school_10th_math, on=[\"school_name\"], how=\"outer\")\n",
    "school_10th=school_10th.rename(columns={\"reading_score\":\"Grade 10th Avg.Reading\", \"math_score\":\"Grade 10th Avg.Math\"})\n",
    "school_10th"
   ]
  },
  {
   "cell_type": "markdown",
   "metadata": {},
   "source": [
    "## Analyze 11th Grade Scores in each School"
   ]
  },
  {
   "cell_type": "code",
   "execution_count": null,
   "metadata": {},
   "outputs": [],
   "source": [
    "condition_11th=(school_analysis[\"grade\"]==\"11th\")\n",
    "school_analysis_11th=school_analysis[condition_11th]\n",
    "school_analysis_11th.head()\n",
    "school_analysis_11th.groupby(\"school_name\")[\"reading_score\"].describe()\n",
    "school_analysis_11th.groupby(\"school_name\")[\"math_score\"].describe()\n",
    "school_11th_reading=school_analysis_11th.groupby(\"school_name\")[\"reading_score\"].mean()\n",
    "school_11th_math=school_analysis_11th.groupby(\"school_name\")[\"math_score\"].mean()\n",
    "\n",
    "school_11th=pd.merge(school_11th_reading, school_11th_math, on=[\"school_name\"], how=\"outer\")\n",
    "school_11th=school_11th.rename(columns={\"reading_score\":\"Grade 11th Avg.Reading\", \"math_score\":\"Grade 11th Avg.Math\"})\n",
    "school_11th"
   ]
  },
  {
   "cell_type": "markdown",
   "metadata": {},
   "source": [
    "## Analyze 12th Grade Scores in each School"
   ]
  },
  {
   "cell_type": "code",
   "execution_count": null,
   "metadata": {},
   "outputs": [],
   "source": [
    "condition_12th=(school_analysis[\"grade\"]==\"12th\")\n",
    "school_analysis_12th=school_analysis[condition_12th]\n",
    "school_analysis_12th.head()\n",
    "school_analysis_12th.groupby(\"school_name\")[\"reading_score\"].describe()\n",
    "school_analysis_12th.groupby(\"school_name\")[\"math_score\"].describe()\n",
    "school_12th_reading = school_analysis_12th.groupby(\"school_name\")[\"reading_score\"].mean()\n",
    "school_12th_math = school_analysis_12th.groupby(\"school_name\")[\"math_score\"].mean()\n",
    "\n",
    "school_12th=pd.merge(school_12th_reading, school_12th_math, on=[\"school_name\"], how=\"outer\")\n",
    "school_12th=school_12th.rename(columns={\"reading_score\":\"Grade 12th Avg.Reading\", \"math_score\":\"Grade 12th Avg.Math\"})\n",
    "school_12th"
   ]
  },
  {
   "cell_type": "markdown",
   "metadata": {},
   "source": [
    "## Stitch Average Grades Together"
   ]
  },
  {
   "cell_type": "code",
   "execution_count": null,
   "metadata": {},
   "outputs": [],
   "source": [
    "school_average_a = pd.merge(school_9th, school_10th, on=\"school_name\", how=\"left\")\n",
    "school_average_a\n",
    "\n",
    "school_average_b = pd.merge(school_11th, school_12th, on=\"school_name\", how=\"left\")\n",
    "school_average_b\n",
    "\n",
    "school_average = pd.merge(school_average_a, school_average_b, on=\"school_name\", how=\"left\")\n",
    "school_average"
   ]
  },
  {
   "cell_type": "code",
   "execution_count": null,
   "metadata": {},
   "outputs": [],
   "source": [
    "# Use Pandas .style.format method to change the display\n",
    "school_average.style.format(\"{:.0f}%\")"
   ]
  },
  {
   "cell_type": "code",
   "execution_count": null,
   "metadata": {},
   "outputs": [],
   "source": [
    "school_average.style.format(\"{:.0f}%\").background_gradient(subset=['Grade 9th Avg.Math','Grade 10th Avg.Math', 'Grade 11th Avg.Math', 'Grade 12th Avg.Math'], cmap='BuGn')"
   ]
  },
  {
   "cell_type": "markdown",
   "metadata": {},
   "source": [
    "## Top Performing Schools (By Passing Rate)"
   ]
  },
  {
   "cell_type": "markdown",
   "metadata": {},
   "source": [
    "* Sort and display the top five schools in overall passing rate"
   ]
  },
  {
   "cell_type": "code",
   "execution_count": null,
   "metadata": {},
   "outputs": [],
   "source": [
    "#Sort by Overall Passing Rate\n",
    "#then Display head(5)\n",
    "#df.sort_values(by=['col1'])\n",
    "top_five=school_metric_data.sort_values(by=[\"Overall Passing Rate\"], ascending=False)\n",
    "#top_five[\"school_name\"]\n",
    "#top_five.iloc[0][\"school_name\"]\n",
    "\n",
    "top_five\n",
    "    "
   ]
  },
  {
   "cell_type": "code",
   "execution_count": null,
   "metadata": {},
   "outputs": [],
   "source": [
    "#Sort by Overall Passing Rate\n",
    "#then Display head(5)\n",
    "#df.sort_values(by=['col1'])\n",
    "\n",
    "top_five[\"School Name\"]\n",
    "top_five.iloc[0][\"School Name\"]\n",
    "\n",
    "space=\" \"\n",
    "print(\"Top Five Schools (based on Overall Passing Rate)\")\n",
    "print(\"************************************************\")\n",
    "for i in range(5):\n",
    "    print(top_five.iloc[i][\"School Name\"])"
   ]
  },
  {
   "cell_type": "markdown",
   "metadata": {},
   "source": [
    "## Bottom Performing Schools (By Passing Rate)"
   ]
  },
  {
   "cell_type": "markdown",
   "metadata": {},
   "source": [
    "* Sort and display the five worst-performing schools"
   ]
  },
  {
   "cell_type": "code",
   "execution_count": null,
   "metadata": {},
   "outputs": [],
   "source": [
    "#Sort by Overall Passing Rate\n",
    "#then Display \n",
    "bottom_five=school_metric_data.sort_values(by=[\"Overall Passing Rate\"], ascending=True)\n",
    "bottom_five\n",
    "\n",
    "print(\"Bottom Five Schools (based on Overall Passing Rate)\")\n",
    "print(\"***************************************************\")\n",
    "for i in range(5):\n",
    "    print(bottom_five.iloc[i][\"School Name\"])"
   ]
  },
  {
   "cell_type": "markdown",
   "metadata": {
    "collapsed": true
   },
   "source": [
    "## Math Scores by Grade"
   ]
  },
  {
   "cell_type": "markdown",
   "metadata": {},
   "source": [
    "* Create a table that lists the average Reading Score for students of each grade level (9th, 10th, 11th, 12th) at each school.\n",
    "\n",
    "  * Create a pandas series for each grade. Hint: use a conditional statement.\n",
    "  \n",
    "  * Group each series by school\n",
    "  \n",
    "  * Combine the series into a dataframe\n",
    "  \n",
    "  * Optional: give the displayed data cleaner formatting"
   ]
  },
  {
   "cell_type": "code",
   "execution_count": null,
   "metadata": {},
   "outputs": [],
   "source": [
    "math_only=pd.DataFrame()\n",
    "\n",
    "school_9th_math\n",
    "school_10th_math\n",
    "school_11th_math\n",
    "school_12th_math\n",
    "math_only[\"Math 9th\"]=school_9th_math\n",
    "math_only[\"Math 10th\"]=school_10th_math\n",
    "math_only[\"Math 11th\"]=school_11th_math\n",
    "math_only[\"Math 12th\"]=school_12th_math\n",
    "\n",
    "\n",
    "\n",
    "math_only"
   ]
  },
  {
   "cell_type": "markdown",
   "metadata": {},
   "source": [
    "## Reading Scores by Grade"
   ]
  },
  {
   "cell_type": "code",
   "execution_count": null,
   "metadata": {},
   "outputs": [],
   "source": [
    "reading_only=pd.DataFrame()\n",
    "\n",
    "school_9th_reading\n",
    "school_10th_reading\n",
    "school_11th_reading\n",
    "school_12th_reading\n",
    "reading_only[\"Reading 9th\"]=school_9th_reading\n",
    "reading_only[\"Reading 10th\"]=school_10th_reading\n",
    "reading_only[\"Reading 11th\"]=school_11th_reading\n",
    "reading_only[\"Reading 12th\"]=school_12th_reading\n",
    "\n",
    "\n",
    "\n",
    "reading_only"
   ]
  },
  {
   "cell_type": "markdown",
   "metadata": {},
   "source": [
    "## Scores by School Spending"
   ]
  },
  {
   "cell_type": "markdown",
   "metadata": {},
   "source": [
    "* Create a table that breaks down school performances based on average Spending Ranges (Per Student). Use 4 reasonable bins to group school spending. Include in the table each of the following:\n",
    "  * Average Math Score\n",
    "  * Average Reading Score\n",
    "  * % Passing Math\n",
    "  * % Passing Reading\n",
    "  * Overall Passing Rate (Average of the above two)"
   ]
  },
  {
   "cell_type": "code",
   "execution_count": null,
   "metadata": {},
   "outputs": [],
   "source": [
    "# Sample bins. Feel free to create your own bins.\n",
    "spending_bins = [0, 585, 615, 645, 675]\n",
    "group_names = [\"<$585\", \"$585-615\", \"$615-645\", \"$645-675\"]"
   ]
  },
  {
   "cell_type": "code",
   "execution_count": null,
   "metadata": {},
   "outputs": [],
   "source": [
    "school_metric_data\n",
    "\n",
    "# Slice the data and place it into bins\n",
    "pd.cut(school_metric_data[\"Per Student Budget\"], spending_bins, labels=group_names)"
   ]
  },
  {
   "cell_type": "code",
   "execution_count": null,
   "metadata": {},
   "outputs": [],
   "source": [
    "school_metric_data[\"Spending Ranges(Per Student)\"]=pd.cut(school_metric_data[\"Per Student Budget\"], spending_bins, labels=group_names)"
   ]
  },
  {
   "cell_type": "code",
   "execution_count": null,
   "metadata": {},
   "outputs": [],
   "source": [
    "# Create a GroupBy object\n",
    "school_spending_group = school_metric_data.groupby(\"Spending Ranges(Per Student)\")"
   ]
  },
  {
   "cell_type": "code",
   "execution_count": null,
   "metadata": {},
   "outputs": [],
   "source": [
    "#school_spending_group.head()\n",
    "# Get the average of each column within the GroupBy object\n",
    "school_spending_group[[\"Average Math Score\", \"Average Reading Score\",\"Percent Passing Math\",\"Percent Passing Reading\", \"Overall Passing Rate\"]].mean()"
   ]
  },
  {
   "cell_type": "markdown",
   "metadata": {},
   "source": [
    "## Scores by School Size"
   ]
  },
  {
   "cell_type": "markdown",
   "metadata": {},
   "source": [
    "* Perform the same operations as above, based on school size."
   ]
  },
  {
   "cell_type": "code",
   "execution_count": null,
   "metadata": {},
   "outputs": [],
   "source": [
    "# Sample bins. Feel free to create your own bins.\n",
    "size_bins = [0, 1000, 2000, 5000]\n",
    "group_names = [\"Small (<1000)\", \"Medium (1000-2000)\", \"Large (2000-5000)\"]"
   ]
  },
  {
   "cell_type": "code",
   "execution_count": null,
   "metadata": {
    "scrolled": true
   },
   "outputs": [],
   "source": [
    "school_metric_data\n",
    "\n",
    "# Slice the data and place it into bins\n",
    "pd.cut(school_metric_data[\"Size\"], size_bins, labels=group_names)"
   ]
  },
  {
   "cell_type": "code",
   "execution_count": null,
   "metadata": {},
   "outputs": [],
   "source": [
    "school_metric_data[\"Scores by School Size\"]=pd.cut(school_metric_data[\"Size\"], size_bins, labels=group_names)"
   ]
  },
  {
   "cell_type": "code",
   "execution_count": null,
   "metadata": {},
   "outputs": [],
   "source": [
    "#school_metric_data.head()"
   ]
  },
  {
   "cell_type": "code",
   "execution_count": null,
   "metadata": {},
   "outputs": [],
   "source": [
    "# Create a GroupBy object based upon \"View Group\"\n",
    "scores_bySize_group = school_metric_data.groupby(\"Scores by School Size\")"
   ]
  },
  {
   "cell_type": "code",
   "execution_count": null,
   "metadata": {},
   "outputs": [],
   "source": [
    "#scores_bySize_group.head()"
   ]
  },
  {
   "cell_type": "code",
   "execution_count": null,
   "metadata": {},
   "outputs": [],
   "source": [
    "scores_bySize_group[[\"Average Math Score\", \"Average Reading Score\",\"Percent Passing Math\",\"Percent Passing Reading\", \"Overall Passing Rate\"]].mean()"
   ]
  },
  {
   "cell_type": "markdown",
   "metadata": {},
   "source": [
    "## Scores by School Type"
   ]
  },
  {
   "cell_type": "markdown",
   "metadata": {},
   "source": [
    "* Perform the same operations as above, based on school type."
   ]
  },
  {
   "cell_type": "code",
   "execution_count": null,
   "metadata": {},
   "outputs": [],
   "source": [
    "# Sample bins. Feel free to create your own bins.\n",
    "school_metric_data.head()"
   ]
  },
  {
   "cell_type": "code",
   "execution_count": null,
   "metadata": {},
   "outputs": [],
   "source": [
    "\n",
    "\n",
    "pd.Categorical(school_metric_data[\"Type\"], categories=[\"District\", \"Charter\"])"
   ]
  },
  {
   "cell_type": "code",
   "execution_count": null,
   "metadata": {},
   "outputs": [],
   "source": [
    "school_metric_data[\"Scores by School Type\"]=pd.Categorical(school_metric_data[\"Type\"], categories=[\"Charter\", \"District\"])"
   ]
  },
  {
   "cell_type": "code",
   "execution_count": null,
   "metadata": {},
   "outputs": [],
   "source": [
    "# Create a GroupBy object \n",
    "scores_byType_group = school_metric_data.groupby(\"Scores by School Type\")"
   ]
  },
  {
   "cell_type": "code",
   "execution_count": null,
   "metadata": {},
   "outputs": [],
   "source": [
    "scores_byType_group[[\"Average Math Score\", \"Average Reading Score\",\"Percent Passing Math\",\"Percent Passing Reading\", \"Overall Passing Rate\"]].mean()"
   ]
  },
  {
   "cell_type": "code",
   "execution_count": null,
   "metadata": {},
   "outputs": [],
   "source": []
  }
 ],
 "metadata": {
  "anaconda-cloud": {},
  "kernel_info": {
   "name": "python3"
  },
  "kernelspec": {
   "display_name": "Python 3",
   "language": "python",
   "name": "python3"
  },
  "language_info": {
   "codemirror_mode": {
    "name": "ipython",
    "version": 3
   },
   "file_extension": ".py",
   "mimetype": "text/x-python",
   "name": "python",
   "nbconvert_exporter": "python",
   "pygments_lexer": "ipython3",
   "version": "3.7.4"
  },
  "latex_envs": {
   "LaTeX_envs_menu_present": true,
   "autoclose": false,
   "autocomplete": true,
   "bibliofile": "biblio.bib",
   "cite_by": "apalike",
   "current_citInitial": 1,
   "eqLabelWithNumbers": true,
   "eqNumInitial": 1,
   "hotkeys": {
    "equation": "Ctrl-E",
    "itemize": "Ctrl-I"
   },
   "labels_anchors": false,
   "latex_user_defs": false,
   "report_style_numbering": false,
   "user_envs_cfg": false
  },
  "nteract": {
   "version": "0.8.4"
  }
 },
 "nbformat": 4,
 "nbformat_minor": 1
}
